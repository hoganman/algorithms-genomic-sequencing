{
 "cells": [
  {
   "cell_type": "markdown",
   "source": [
    "# Edit Distance, Assembly, and Overlaps\n",
    "\n"
   ],
   "metadata": {
    "collapsed": false
   }
  },
  {
   "cell_type": "markdown",
   "source": [],
   "metadata": {
    "collapsed": false
   }
  },
  {
   "cell_type": "code",
   "execution_count": 36,
   "outputs": [],
   "source": [
    "%matplotlib inline"
   ],
   "metadata": {
    "collapsed": false
   }
  },
  {
   "cell_type": "code",
   "execution_count": 79,
   "outputs": [],
   "source": [
    "from typing import Optional\n",
    "import random\n",
    "\n",
    "import matplotlib.pyplot as plt\n",
    "import numpy as np"
   ],
   "metadata": {
    "collapsed": false
   }
  },
  {
   "cell_type": "code",
   "execution_count": 80,
   "outputs": [
    {
     "data": {
      "text/plain": "3"
     },
     "execution_count": 80,
     "metadata": {},
     "output_type": "execute_result"
    }
   ],
   "source": [
    "def edit_distance(\n",
    "    s1: str,\n",
    "    s2: str,\n",
    "    dist: Optional[np.ndarray] = None\n",
    ") -> int:\n",
    "    \"\"\"\n",
    "\n",
    "    Parameters\n",
    "    ----------\n",
    "    s1\n",
    "    s2\n",
    "    dist\n",
    "\n",
    "    Returns\n",
    "    -------\n",
    "\n",
    "    >>> s1 = \"ABCD\"\n",
    "    >>> s2 = \"EFG\"\n",
    "    >>> edit_distance(s1, s2)\n",
    "    4\n",
    "    \"\"\"\n",
    "    if dist is None:\n",
    "        dist = build_edit_dist_matrix(s1, s2)\n",
    "    # return np.min(dist[-1])\n",
    "    return dist[-1][-1]\n",
    "\n",
    "def build_edit_dist_matrix(\n",
    "    s1: str,\n",
    "    s2: str,\n",
    ") -> np.ndarray:\n",
    "    \"\"\"Calculate the edit distance matrix between to strings using equal weights.\n",
    "\n",
    "    The edit distance is defined as the number of substitutions,\n",
    "    insertions, and deletions required to align them\n",
    "\n",
    "    Parameters\n",
    "    ----------\n",
    "    s1 : str\n",
    "        First string\n",
    "    s2 :\n",
    "        Second string\n",
    "\n",
    "    Returns\n",
    "    -------\n",
    "    np.ndarray\n",
    "        The edit distance matrix\n",
    "\n",
    "    \"\"\"\n",
    "    if len(s1) > len(s2):\n",
    "        shorter_str = s2\n",
    "        longer_str = s1\n",
    "        shape = (len(s2) + 1, len(s1) + 1)\n",
    "    else:\n",
    "        shorter_str = s1\n",
    "        longer_str = s2\n",
    "        shape = (len(s1) + 1, len(s2) + 1)\n",
    "    dist = np.zeros(shape=shape, dtype=int)\n",
    "    for index in range(1, shape[0]):\n",
    "        dist[index][0] = index\n",
    "    for index in range(1, shape[1]):\n",
    "        dist[0][index] = index\n",
    "    for index_i in range(1, shape[0]):\n",
    "        for index_j in range(1, shape[1]):\n",
    "            dist_hor = dist[index_i][index_j - 1] + 1\n",
    "            dist_ver = dist[index_i - 1][index_j] + 1\n",
    "            dist_diag = dist[index_i - 1][index_j - 1]\n",
    "            if shorter_str[index_i - 1] != longer_str[index_j - 1]:\n",
    "                dist_diag += 1\n",
    "            dist[index_i][index_j] = np.min([dist_hor, dist_ver, dist_diag])\n",
    "    return dist\n",
    "\n",
    "\n",
    "s1 = \"ABCD\"\n",
    "s2 = \"EFG\"\n",
    "edit_distance(s1, s2)"
   ],
   "metadata": {
    "collapsed": false
   }
  },
  {
   "cell_type": "code",
   "execution_count": 68,
   "outputs": [
    {
     "data": {
      "text/plain": "4"
     },
     "execution_count": 68,
     "metadata": {},
     "output_type": "execute_result"
    }
   ],
   "source": [
    "# random.seed(42)"
   ],
   "metadata": {
    "collapsed": false
   }
  },
  {
   "cell_type": "code",
   "execution_count": null,
   "outputs": [],
   "source": [],
   "metadata": {
    "collapsed": false
   }
  }
 ],
 "metadata": {
  "kernelspec": {
   "display_name": "Python 3",
   "language": "python",
   "name": "python3"
  },
  "language_info": {
   "codemirror_mode": {
    "name": "ipython",
    "version": 2
   },
   "file_extension": ".py",
   "mimetype": "text/x-python",
   "name": "python",
   "nbconvert_exporter": "python",
   "pygments_lexer": "ipython2",
   "version": "2.7.6"
  }
 },
 "nbformat": 4,
 "nbformat_minor": 0
}
