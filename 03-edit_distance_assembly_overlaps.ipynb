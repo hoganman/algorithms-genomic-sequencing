{
 "cells": [
  {
   "cell_type": "markdown",
   "source": [
    "# Edit Distance, Assembly, and Overlaps\n",
    "\n"
   ],
   "metadata": {
    "collapsed": false
   }
  },
  {
   "cell_type": "markdown",
   "source": [],
   "metadata": {
    "collapsed": false
   }
  },
  {
   "cell_type": "code",
   "execution_count": 1,
   "outputs": [],
   "source": [
    "%matplotlib inline"
   ],
   "metadata": {
    "collapsed": false
   }
  },
  {
   "cell_type": "code",
   "execution_count": 2,
   "outputs": [],
   "source": [
    "from pathlib import Path\n",
    "from typing import Literal, Optional, TypeAlias\n",
    "import unittest\n",
    "\n",
    "from Bio.SeqIO import parse, SeqRecord\n",
    "import numpy as np\n",
    "import numpy.typing as npt"
   ],
   "metadata": {
    "collapsed": false
   }
  },
  {
   "cell_type": "code",
   "execution_count": 3,
   "outputs": [
    {
     "name": "stderr",
     "output_type": "stream",
     "text": [
      "test_approx_distance (__main__.DistanceMatrixTestCase) ... ok\n",
      "test_edit_distance (__main__.DistanceMatrixTestCase) ... ok\n",
      "\n",
      "----------------------------------------------------------------------\n",
      "Ran 2 tests in 0.020s\n",
      "\n",
      "OK\n"
     ]
    }
   ],
   "source": [
    "ArrayLikeInt: TypeAlias = npt.ArrayLike\n",
    "\"\"\"NumPy array of data type int\"\"\"\n",
    "\n",
    "\n",
    "def min_distance(\n",
    "    dist: ArrayLikeInt\n",
    ") -> int:\n",
    "    \"\"\"Calculate the minimum distance between two strings using a distance matrix.\n",
    "\n",
    "    Parameters\n",
    "    ----------\n",
    "    dist : ArrayLikeInt\n",
    "        Prepopulated distance array. The rows match to the shorter string.\n",
    "    Returns\n",
    "    -------\n",
    "    int\n",
    "        Edit distance\n",
    "    \"\"\"\n",
    "    return np.min(dist[-1])\n",
    "\n",
    "\n",
    "def build_dist_matrix(\n",
    "    s1: str,\n",
    "    s2: str,\n",
    "    method: Literal[\"Edit\", \"Approx\"],\n",
    "    verbose: bool = False\n",
    ") -> np.ndarray:\n",
    "    \"\"\"Calculate the edit distance matrix between to strings\n",
    "\n",
    "    The edit distance is defined as the number of substitutions,\n",
    "    insertions, and deletions required to align them. For equal-\n",
    "    weights.\n",
    "\n",
    "    Parameters\n",
    "    ----------\n",
    "    s1 : str\n",
    "        First string\n",
    "    s2 :\n",
    "        Second string\n",
    "    verbose : bool\n",
    "        Enable verbosity\n",
    "    method : Literal[\"Edit\", \"Approx\"]\n",
    "        The method to use.\n",
    "\n",
    "    Returns\n",
    "    -------\n",
    "    np.ndarray\n",
    "        The edit distance matrix\n",
    "\n",
    "    \"\"\"\n",
    "    if method not in (\"Edit\", \"Approx\"):\n",
    "        raise ValueError(f'method \"{method} is not supported\"')\n",
    "    if len(s1) > len(s2):\n",
    "        shorter_str = s2\n",
    "        longer_str = s1\n",
    "        shape = (len(s2) + 1, len(s1) + 1)\n",
    "    else:\n",
    "        shorter_str = s1\n",
    "        longer_str = s2\n",
    "        shape = (len(s1) + 1, len(s2) + 1)\n",
    "    dist = np.zeros(shape=shape, dtype=int)\n",
    "    # Initialize first column\n",
    "    for index in range(1, shape[0]):\n",
    "        dist[index][0] = index\n",
    "    # Initialize first row\n",
    "    if method == \"Edit\":\n",
    "        for index in range(1, shape[1]):\n",
    "            dist[0][index] = index\n",
    "    counter = 0\n",
    "    total_iter = (shape[0] - 1) * (shape[1] - 1)\n",
    "    for index_i in range(1, shape[0]):\n",
    "        for index_j in range(1, shape[1]):\n",
    "            if verbose and (counter / total_iter * 100) % 1 == 0:\n",
    "                print(\"%d%%\" % (counter / total_iter * 100))\n",
    "            counter += 1\n",
    "            dist_hor = dist[index_i][index_j - 1] + 1\n",
    "            dist_ver = dist[index_i - 1][index_j] + 1\n",
    "            dist_diag = dist[index_i - 1][index_j - 1]\n",
    "            if shorter_str[index_i - 1] != longer_str[index_j - 1]:\n",
    "                dist_diag += 1\n",
    "            dist[index_i][index_j] = np.min([dist_hor, dist_ver, dist_diag])\n",
    "    if verbose:\n",
    "        print(\"100%\")\n",
    "    return dist\n",
    "\n",
    "\n",
    "def build_edit_dist_matrix(\n",
    "    s1: str,\n",
    "    s2: str,\n",
    ") -> np.ndarray:\n",
    "    return build_dist_matrix(s1, s2, \"Edit\")\n",
    "\n",
    "\n",
    "def build_approx_match_dist_matrix(\n",
    "    s1: str,\n",
    "    s2: str,\n",
    ") -> np.ndarray:\n",
    "    return build_dist_matrix(s1, s2, \"Approx\")\n",
    "\n",
    "\n",
    "class DistanceMatrixTestCase(unittest.TestCase):\n",
    "\n",
    "    def test_edit_distance(self):\n",
    "        p_1 = \"EFG\"\n",
    "        t_1 = \"ABCD\"\n",
    "        edit_dist_mat_1 = build_edit_dist_matrix(p_1, t_1)\n",
    "        self.assertEqual(min_distance(edit_dist_mat_1), 3)\n",
    "\n",
    "        p_2 = \"GCGTATGC\"\n",
    "        t_2 = \"TATTGGCTATACGGTT\"\n",
    "        edit_dist_mat_2 = build_edit_dist_matrix(p_2, t_2)\n",
    "        self.assertEqual(min_distance(edit_dist_mat_2), 5)\n",
    "\n",
    "    def test_approx_distance(self):\n",
    "        p_1 = \"EFG\"\n",
    "        t_1 = \"ABCD\"\n",
    "        approx_match_dist_mat_1 = build_approx_match_dist_matrix(p_1, t_1)\n",
    "        self.assertEqual(\n",
    "            min_distance(approx_match_dist_mat_1),\n",
    "            3\n",
    "        )\n",
    "\n",
    "        p_2 = \"GCGTATGC\"\n",
    "        t_2 = \"TATTGGCTATACGGTT\"\n",
    "        approx_match_dist_mat_2 = build_approx_match_dist_matrix(p_2, t_2)\n",
    "        self.assertEqual(\n",
    "            min_distance(approx_match_dist_mat_2),\n",
    "            2\n",
    "        )\n",
    "\n",
    "res = unittest.main(argv=[''], verbosity=3, exit=False)\n",
    "assert len(res.result.failures) == 0"
   ],
   "metadata": {
    "collapsed": false
   }
  },
  {
   "cell_type": "code",
   "execution_count": 4,
   "outputs": [
    {
     "name": "stdout",
     "output_type": "stream",
     "text": [
      "--2022-12-02 14:27:04--  https://d28rh4a8wq0iu5.cloudfront.net/ads1/data/chr1.GRCh38.excerpt.fasta\r\n",
      "Resolving d28rh4a8wq0iu5.cloudfront.net (d28rh4a8wq0iu5.cloudfront.net)... 108.156.200.104, 108.156.200.204, 108.156.200.29, ...\r\n",
      "Connecting to d28rh4a8wq0iu5.cloudfront.net (d28rh4a8wq0iu5.cloudfront.net)|108.156.200.104|:443... connected.\r\n",
      "HTTP request sent, awaiting response... 200 OK\r\n",
      "Length: 810105 (791K) [application/octet-stream]\r\n",
      "Saving to: ‘chr1.GRCh38.excerpt.fasta’\r\n",
      "\r\n",
      "chr1.GRCh38.excerpt 100%[===================>] 791.12K  --.-KB/s    in 0.06s   \r\n",
      "\r\n",
      "2022-12-02 14:27:04 (13.3 MB/s) - ‘chr1.GRCh38.excerpt.fasta’ saved [810105/810105]\r\n",
      "\r\n"
     ]
    }
   ],
   "source": [
    "!wget https://d28rh4a8wq0iu5.cloudfront.net/ads1/data/chr1.GRCh38.excerpt.fasta\n",
    "!mkdir -p week3hw\n",
    "!mv chr1.GRCh38.excerpt.fasta week3hw"
   ],
   "metadata": {
    "collapsed": false
   }
  },
  {
   "cell_type": "code",
   "execution_count": 5,
   "outputs": [],
   "source": [
    "human_genome_file = Path(\"week3hw/chr1.GRCh38.excerpt.fasta\")\n",
    "with human_genome_file.open(\"r\") as fh:\n",
    "    human_genome_seg: SeqRecord = list(parse(fh, human_genome_file.suffix.strip(\".\")))[0]"
   ],
   "metadata": {
    "collapsed": false
   }
  },
  {
   "cell_type": "code",
   "execution_count": 6,
   "outputs": [
    {
     "data": {
      "text/plain": "(SeqRecord(seq=Seq('TTGAATGCTGAAATCAGCAGGTAATATATGATAATAGAGAAAGCTATCCCGAAG...AGG'), id='CM000663.2_excerpt', name='CM000663.2_excerpt', description='CM000663.2_excerpt EXCERPT FROM CM000663.2 Homo sapiens chromosome 1, GRCh38 reference primary assembly', dbxrefs=[]),\n 800000)"
     },
     "execution_count": 6,
     "metadata": {},
     "output_type": "execute_result"
    }
   ],
   "source": [
    "human_genome_seg, len(human_genome_seg.seq)"
   ],
   "metadata": {
    "collapsed": false
   }
  },
  {
   "cell_type": "markdown",
   "source": [
    "# Quiz"
   ],
   "metadata": {
    "collapsed": false
   }
  },
  {
   "cell_type": "markdown",
   "source": [
    "## Q1 and Q2 Preamble\n",
    "\n",
    "We saw how to adapt dynamic programming to find approximate occurrences of a pattern in a text. Recall that:\n",
    "\n",
    " 1. Rows of the dynamic programming matrix are labeled with bases from P and columns with bases from T\n",
    " 2. Elements in the first row are set to 0\n",
    " 3. Elements in the first column are set to 0, 1, 2, ..., as for edit distance\n",
    " 4. Other elements are set in the same way as elements of a standard edit distance matrix\n",
    " 5. The minimal value in the bottom row is the edit distance of the closest match between P and T\n",
    "\n",
    "\n",
    "First, download the provided excerpt of human chromosome 1\n",
    "\n",
    "https://d28rh4a8wq0iu5.cloudfront.net/ads1/data/chr1.GRCh38.excerpt.fasta\n",
    "\n",
    "Second, parse it using the readGenome function we wrote before.\n",
    "\n",
    "Third, adapt the editDistance function we saw in practical (copied below) to answer questions 1 and 2 below. Your function should take arguments p (pattern), t (text) and should return the edit distance of the match between P and T with the fewest edits."
   ],
   "metadata": {
    "collapsed": false
   }
  },
  {
   "cell_type": "markdown",
   "source": [
    "## Q1\n",
    "\n",
    "What is the edit distance of the best match between pattern GCTGATCGATCGTACG and the excerpt of human chromosome 1?  (Don't consider reverse complements.)"
   ],
   "metadata": {
    "collapsed": false
   }
  },
  {
   "cell_type": "code",
   "execution_count": 7,
   "outputs": [
    {
     "name": "stdout",
     "output_type": "stream",
     "text": [
      "0%\n",
      "1%\n",
      "2%\n",
      "3%\n",
      "4%\n",
      "5%\n",
      "6%\n",
      "8%\n",
      "9%\n",
      "10%\n",
      "11%\n",
      "12%\n",
      "13%\n",
      "15%\n",
      "16%\n",
      "17%\n",
      "18%\n",
      "19%\n",
      "20%\n",
      "21%\n",
      "22%\n",
      "23%\n",
      "24%\n",
      "25%\n",
      "26%\n",
      "27%\n",
      "30%\n",
      "31%\n",
      "32%\n",
      "33%\n",
      "34%\n",
      "35%\n",
      "36%\n",
      "37%\n",
      "38%\n",
      "39%\n",
      "40%\n",
      "41%\n",
      "42%\n",
      "43%\n",
      "44%\n",
      "45%\n",
      "46%\n",
      "47%\n",
      "48%\n",
      "49%\n",
      "50%\n",
      "51%\n",
      "52%\n",
      "53%\n",
      "54%\n",
      "59%\n",
      "60%\n",
      "61%\n",
      "62%\n",
      "63%\n",
      "64%\n",
      "65%\n",
      "66%\n",
      "67%\n",
      "68%\n",
      "69%\n",
      "70%\n",
      "71%\n",
      "72%\n",
      "73%\n",
      "74%\n",
      "75%\n",
      "76%\n",
      "77%\n",
      "78%\n",
      "79%\n",
      "80%\n",
      "81%\n",
      "82%\n",
      "83%\n",
      "84%\n",
      "85%\n",
      "86%\n",
      "87%\n",
      "88%\n",
      "89%\n",
      "90%\n",
      "91%\n",
      "92%\n",
      "93%\n",
      "94%\n",
      "95%\n",
      "96%\n",
      "97%\n",
      "98%\n",
      "99%\n",
      "100%\n"
     ]
    }
   ],
   "source": [
    "p_1 = \"GCTGATCGATCGTACG\"\n",
    "t_1 = str(human_genome_seg.seq)\n",
    "\n",
    "try:\n",
    "    assert edit_mat_1 is not None\n",
    "except NameError:\n",
    "    edit_mat_1 = build_dist_matrix(p_1, t_1, \"Approx\", verbose=True)"
   ],
   "metadata": {
    "collapsed": false
   }
  },
  {
   "cell_type": "code",
   "execution_count": 8,
   "outputs": [],
   "source": [
    "edit_dist_1 = min_distance(edit_mat_1)"
   ],
   "metadata": {
    "collapsed": false
   }
  },
  {
   "cell_type": "code",
   "execution_count": 9,
   "outputs": [
    {
     "data": {
      "text/plain": "3"
     },
     "execution_count": 9,
     "metadata": {},
     "output_type": "execute_result"
    }
   ],
   "source": [
    "edit_dist_1"
   ],
   "metadata": {
    "collapsed": false
   }
  },
  {
   "cell_type": "markdown",
   "source": [
    "The correct answer is __3__!"
   ],
   "metadata": {
    "collapsed": false
   }
  },
  {
   "cell_type": "markdown",
   "source": [
    "## Q2\n",
    "\n",
    "What is the edit distance of the best match between pattern GATTTACCAGATTGAG and the excerpt of human chromosome 1?  (Don't consider reverse complements.)"
   ],
   "metadata": {
    "collapsed": false
   }
  },
  {
   "cell_type": "code",
   "execution_count": 10,
   "outputs": [
    {
     "name": "stdout",
     "output_type": "stream",
     "text": [
      "0%\n",
      "1%\n",
      "2%\n",
      "3%\n",
      "4%\n",
      "5%\n",
      "6%\n",
      "8%\n",
      "9%\n",
      "10%\n",
      "11%\n",
      "12%\n",
      "13%\n",
      "15%\n",
      "16%\n",
      "17%\n",
      "18%\n",
      "19%\n",
      "20%\n",
      "21%\n",
      "22%\n",
      "23%\n",
      "24%\n",
      "25%\n",
      "26%\n",
      "27%\n",
      "30%\n",
      "31%\n",
      "32%\n",
      "33%\n",
      "34%\n",
      "35%\n",
      "36%\n",
      "37%\n",
      "38%\n",
      "39%\n",
      "40%\n",
      "41%\n",
      "42%\n",
      "43%\n",
      "44%\n",
      "45%\n",
      "46%\n",
      "47%\n",
      "48%\n",
      "49%\n",
      "50%\n",
      "51%\n",
      "52%\n",
      "53%\n",
      "54%\n",
      "59%\n",
      "60%\n",
      "61%\n",
      "62%\n",
      "63%\n",
      "64%\n",
      "65%\n",
      "66%\n",
      "67%\n",
      "68%\n",
      "69%\n",
      "70%\n",
      "71%\n",
      "72%\n",
      "73%\n",
      "74%\n",
      "75%\n",
      "76%\n",
      "77%\n",
      "78%\n",
      "79%\n",
      "80%\n",
      "81%\n",
      "82%\n",
      "83%\n",
      "84%\n",
      "85%\n",
      "86%\n",
      "87%\n",
      "88%\n",
      "89%\n",
      "90%\n",
      "91%\n",
      "92%\n",
      "93%\n",
      "94%\n",
      "95%\n",
      "96%\n",
      "97%\n",
      "98%\n",
      "99%\n",
      "100%\n"
     ]
    }
   ],
   "source": [
    "p_2 = \"GATTTACCAGATTGAG\"\n",
    "t_2 = t_1\n",
    "\n",
    "try:\n",
    "    assert edit_mat_2 is not None\n",
    "except NameError:\n",
    "    edit_mat_2 = build_dist_matrix(p_2, t_2, \"Approx\", verbose=True)\n"
   ],
   "metadata": {
    "collapsed": false
   }
  },
  {
   "cell_type": "code",
   "execution_count": 11,
   "outputs": [],
   "source": [
    "edit_dist_2 = min_distance(edit_mat_2)"
   ],
   "metadata": {
    "collapsed": false
   }
  },
  {
   "cell_type": "code",
   "execution_count": 12,
   "outputs": [
    {
     "data": {
      "text/plain": "2"
     },
     "execution_count": 12,
     "metadata": {},
     "output_type": "execute_result"
    }
   ],
   "source": [
    "edit_dist_2"
   ],
   "metadata": {
    "collapsed": false
   }
  },
  {
   "cell_type": "markdown",
   "source": [
    "The correct answer is __2__!"
   ],
   "metadata": {
    "collapsed": false
   }
  },
  {
   "cell_type": "code",
   "execution_count": null,
   "outputs": [],
   "source": [],
   "metadata": {
    "collapsed": false
   }
  }
 ],
 "metadata": {
  "kernelspec": {
   "display_name": "Python 3",
   "language": "python",
   "name": "python3"
  },
  "language_info": {
   "codemirror_mode": {
    "name": "ipython",
    "version": 2
   },
   "file_extension": ".py",
   "mimetype": "text/x-python",
   "name": "python",
   "nbconvert_exporter": "python",
   "pygments_lexer": "ipython2",
   "version": "2.7.6"
  }
 },
 "nbformat": 4,
 "nbformat_minor": 0
}
