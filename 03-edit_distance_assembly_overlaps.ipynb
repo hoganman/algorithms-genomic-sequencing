{
 "cells": [
  {
   "cell_type": "markdown",
   "source": [
    "# Edit Distance, Assembly, and Overlaps\n",
    "\n"
   ],
   "metadata": {
    "collapsed": false
   }
  },
  {
   "cell_type": "markdown",
   "source": [],
   "metadata": {
    "collapsed": false
   }
  },
  {
   "cell_type": "code",
   "execution_count": null,
   "outputs": [],
   "source": [
    "%matplotlib inline"
   ],
   "metadata": {
    "collapsed": false
   }
  },
  {
   "cell_type": "code",
   "execution_count": 1,
   "outputs": [],
   "source": [
    "from pathlib import Path\n",
    "from typing import Literal, TypeAlias\n",
    "import unittest\n",
    "\n",
    "from Bio.SeqIO import parse, SeqRecord\n",
    "import numpy as np\n",
    "import numpy.typing as npt"
   ],
   "metadata": {
    "collapsed": false
   }
  },
  {
   "cell_type": "code",
   "execution_count": null,
   "outputs": [],
   "source": [
    "ArrayLikeInt: TypeAlias = npt.ArrayLike\n",
    "\"\"\"NumPy array of data type int\"\"\"\n",
    "\n",
    "\n",
    "def min_distance(\n",
    "    dist: ArrayLikeInt\n",
    ") -> int:\n",
    "    \"\"\"Calculate the minimum distance between two strings using a distance matrix.\n",
    "\n",
    "    Parameters\n",
    "    ----------\n",
    "    dist : ArrayLikeInt\n",
    "        Prepopulated distance array. The rows match to the shorter string.\n",
    "    Returns\n",
    "    -------\n",
    "    int\n",
    "        Edit distance\n",
    "    \"\"\"\n",
    "    return np.min(dist[-1])\n",
    "\n",
    "\n",
    "def build_dist_matrix(\n",
    "    s1: str,\n",
    "    s2: str,\n",
    "    method: Literal[\"Edit\", \"Approx\"],\n",
    "    verbose: bool = False\n",
    ") -> np.ndarray:\n",
    "    \"\"\"Calculate the edit distance matrix between to strings\n",
    "\n",
    "    The edit distance is defined as the number of substitutions,\n",
    "    insertions, and deletions required to align them. For equal-\n",
    "    weights.\n",
    "\n",
    "    Parameters\n",
    "    ----------\n",
    "    s1 : str\n",
    "        First string\n",
    "    s2 :\n",
    "        Second string\n",
    "    verbose : bool\n",
    "        Enable verbosity\n",
    "    method : Literal[\"Edit\", \"Approx\"]\n",
    "        The method to use.\n",
    "\n",
    "    Returns\n",
    "    -------\n",
    "    np.ndarray\n",
    "        The edit distance matrix\n",
    "\n",
    "    \"\"\"\n",
    "    if method not in (\"Edit\", \"Approx\"):\n",
    "        raise ValueError(f'method \"{method} is not supported\"')\n",
    "    if len(s1) > len(s2):\n",
    "        shorter_str = s2\n",
    "        longer_str = s1\n",
    "        shape = (len(s2) + 1, len(s1) + 1)\n",
    "    else:\n",
    "        shorter_str = s1\n",
    "        longer_str = s2\n",
    "        shape = (len(s1) + 1, len(s2) + 1)\n",
    "    dist = np.zeros(shape=shape, dtype=int)\n",
    "    # Initialize first column\n",
    "    for index in range(1, shape[0]):\n",
    "        dist[index][0] = index\n",
    "    # Initialize first row\n",
    "    if method == \"Edit\":\n",
    "        for index in range(1, shape[1]):\n",
    "            dist[0][index] = index\n",
    "    counter = 0\n",
    "    total_iter = (shape[0] - 1) * (shape[1] - 1)\n",
    "    for index_i in range(1, shape[0]):\n",
    "        for index_j in range(1, shape[1]):\n",
    "            if verbose and (counter / total_iter * 100) % 1 == 0:\n",
    "                print(\"%d%%\" % (counter / total_iter * 100))\n",
    "            counter += 1\n",
    "            dist_hor = dist[index_i][index_j - 1] + 1\n",
    "            dist_ver = dist[index_i - 1][index_j] + 1\n",
    "            dist_diag = dist[index_i - 1][index_j - 1]\n",
    "            if shorter_str[index_i - 1] != longer_str[index_j - 1]:\n",
    "                dist_diag += 1\n",
    "            dist[index_i][index_j] = np.min([dist_hor, dist_ver, dist_diag])\n",
    "    if verbose:\n",
    "        print(\"100%\")\n",
    "    return dist\n",
    "\n",
    "\n",
    "def build_edit_dist_matrix(\n",
    "    s1: str,\n",
    "    s2: str,\n",
    ") -> np.ndarray:\n",
    "    return build_dist_matrix(s1, s2, \"Edit\")\n",
    "\n",
    "\n",
    "def build_approx_match_dist_matrix(\n",
    "    s1: str,\n",
    "    s2: str,\n",
    ") -> np.ndarray:\n",
    "    return build_dist_matrix(s1, s2, \"Approx\")\n",
    "\n",
    "\n",
    "class DistanceMatrixTestCase(unittest.TestCase):\n",
    "\n",
    "    def test_edit_distance(self):\n",
    "        p_1 = \"EFG\"\n",
    "        t_1 = \"ABCD\"\n",
    "        edit_dist_mat_1 = build_edit_dist_matrix(p_1, t_1)\n",
    "        self.assertEqual(min_distance(edit_dist_mat_1), 3)\n",
    "\n",
    "        p_2 = \"GCGTATGC\"\n",
    "        t_2 = \"TATTGGCTATACGGTT\"\n",
    "        edit_dist_mat_2 = build_edit_dist_matrix(p_2, t_2)\n",
    "        self.assertEqual(min_distance(edit_dist_mat_2), 5)\n",
    "\n",
    "    def test_approx_distance(self):\n",
    "        p_1 = \"EFG\"\n",
    "        t_1 = \"ABCD\"\n",
    "        approx_match_dist_mat_1 = build_approx_match_dist_matrix(p_1, t_1)\n",
    "        self.assertEqual(\n",
    "            min_distance(approx_match_dist_mat_1),\n",
    "            3\n",
    "        )\n",
    "\n",
    "        p_2 = \"GCGTATGC\"\n",
    "        t_2 = \"TATTGGCTATACGGTT\"\n",
    "        approx_match_dist_mat_2 = build_approx_match_dist_matrix(p_2, t_2)\n",
    "        self.assertEqual(\n",
    "            min_distance(approx_match_dist_mat_2),\n",
    "            2\n",
    "        )\n",
    "\n",
    "res = unittest.main(argv=[''], verbosity=3, exit=False)\n",
    "assert len(res.result.failures) == 0"
   ],
   "metadata": {
    "collapsed": false
   }
  },
  {
   "cell_type": "code",
   "execution_count": null,
   "outputs": [],
   "source": [
    "!wget https://d28rh4a8wq0iu5.cloudfront.net/ads1/data/chr1.GRCh38.excerpt.fasta\n",
    "!mkdir -p week3hw\n",
    "!mv chr1.GRCh38.excerpt.fasta week3hw"
   ],
   "metadata": {
    "collapsed": false
   }
  },
  {
   "cell_type": "code",
   "execution_count": null,
   "outputs": [],
   "source": [
    "human_genome_file = Path(\"week3hw/chr1.GRCh38.excerpt.fasta\")\n",
    "with human_genome_file.open(\"r\") as fh:\n",
    "    human_genome_seg: SeqRecord = list(parse(fh, human_genome_file.suffix.strip(\".\")))[0]"
   ],
   "metadata": {
    "collapsed": false
   }
  },
  {
   "cell_type": "code",
   "execution_count": null,
   "outputs": [],
   "source": [
    "human_genome_seg, len(human_genome_seg.seq)"
   ],
   "metadata": {
    "collapsed": false
   }
  },
  {
   "cell_type": "markdown",
   "source": [
    "# Quiz"
   ],
   "metadata": {
    "collapsed": false
   }
  },
  {
   "cell_type": "markdown",
   "source": [
    "## Q1 and Q2 Preamble\n",
    "\n",
    "We saw how to adapt dynamic programming to find approximate occurrences of a pattern in a text. Recall that:\n",
    "\n",
    " 1. Rows of the dynamic programming matrix are labeled with bases from P and columns with bases from T\n",
    " 2. Elements in the first row are set to 0\n",
    " 3. Elements in the first column are set to 0, 1, 2, ..., as for edit distance\n",
    " 4. Other elements are set in the same way as elements of a standard edit distance matrix\n",
    " 5. The minimal value in the bottom row is the edit distance of the closest match between P and T\n",
    "\n",
    "\n",
    "First, download the provided excerpt of human chromosome 1\n",
    "\n",
    "https://d28rh4a8wq0iu5.cloudfront.net/ads1/data/chr1.GRCh38.excerpt.fasta\n",
    "\n",
    "Second, parse it using the readGenome function we wrote before.\n",
    "\n",
    "Third, adapt the editDistance function we saw in practical (copied below) to answer questions 1 and 2 below. Your function should take arguments p (pattern), t (text) and should return the edit distance of the match between P and T with the fewest edits."
   ],
   "metadata": {
    "collapsed": false
   }
  },
  {
   "cell_type": "markdown",
   "source": [
    "## Q1\n",
    "\n",
    "What is the edit distance of the best match between pattern GCTGATCGATCGTACG and the excerpt of human chromosome 1?  (Don't consider reverse complements.)"
   ],
   "metadata": {
    "collapsed": false
   }
  },
  {
   "cell_type": "code",
   "execution_count": null,
   "outputs": [],
   "source": [
    "p_1 = \"GCTGATCGATCGTACG\"\n",
    "t_1 = str(human_genome_seg.seq)\n",
    "\n",
    "try:\n",
    "    assert edit_mat_1 is not None\n",
    "except NameError:\n",
    "    edit_mat_1 = build_dist_matrix(p_1, t_1, \"Approx\", verbose=True)"
   ],
   "metadata": {
    "collapsed": false
   }
  },
  {
   "cell_type": "code",
   "execution_count": null,
   "outputs": [],
   "source": [
    "edit_dist_1 = min_distance(edit_mat_1)"
   ],
   "metadata": {
    "collapsed": false
   }
  },
  {
   "cell_type": "code",
   "execution_count": null,
   "outputs": [],
   "source": [
    "edit_dist_1"
   ],
   "metadata": {
    "collapsed": false
   }
  },
  {
   "cell_type": "markdown",
   "source": [
    "The correct answer is __3__!"
   ],
   "metadata": {
    "collapsed": false
   }
  },
  {
   "cell_type": "markdown",
   "source": [
    "## Q2\n",
    "\n",
    "What is the edit distance of the best match between pattern GATTTACCAGATTGAG and the excerpt of human chromosome 1?  (Don't consider reverse complements.)"
   ],
   "metadata": {
    "collapsed": false
   }
  },
  {
   "cell_type": "code",
   "execution_count": null,
   "outputs": [],
   "source": [
    "p_2 = \"GATTTACCAGATTGAG\"\n",
    "t_2 = t_1\n",
    "\n",
    "try:\n",
    "    assert edit_mat_2 is not None\n",
    "except NameError:\n",
    "    edit_mat_2 = build_dist_matrix(p_2, t_2, \"Approx\", verbose=True)\n"
   ],
   "metadata": {
    "collapsed": false
   }
  },
  {
   "cell_type": "code",
   "execution_count": null,
   "outputs": [],
   "source": [
    "edit_dist_2 = min_distance(edit_mat_2)"
   ],
   "metadata": {
    "collapsed": false
   }
  },
  {
   "cell_type": "code",
   "execution_count": null,
   "outputs": [],
   "source": [
    "edit_dist_2"
   ],
   "metadata": {
    "collapsed": false
   }
  },
  {
   "cell_type": "markdown",
   "source": [
    "The correct answer is __2__!"
   ],
   "metadata": {
    "collapsed": false
   }
  },
  {
   "cell_type": "markdown",
   "source": [
    "## Q3 and Q4 Preamble"
   ],
   "metadata": {
    "collapsed": false
   }
  },
  {
   "cell_type": "markdown",
   "source": [
    "In a practical, we saw a function for finding the longest exact overlap (suffix/prefix match) between two strings. The function is copied below.\n",
    "\n",
    "```python\n",
    "def overlap(a, b, min_length=3):\n",
    "    \"\"\" Return length of longest suffix of 'a' matching\n",
    "        a prefix of 'b' that is at least 'min_length'\n",
    "        characters long.  If no such overlap exists,\n",
    "        return 0. \"\"\"\n",
    "    start = 0  # start all the way at the left\n",
    "    while True:\n",
    "        start = a.find(b[:min_length], start)  # look for b's prefix in a\n",
    "        if start == -1:  # no more occurrences to right\n",
    "            return 0\n",
    "        # found occurrence; check for full suffix/prefix match\n",
    "        if b.startswith(a[start:]):\n",
    "            return len(a)-start\n",
    "        start += 1  # move just past previous match\n",
    "```\n",
    "\n",
    "Say we are concerned only with overlaps that (a) are exact matches (no differences allowed), and (b) are at least k bases long. To make an overlap graph, we could call `overlap(a,b,min_length=k)` on every possible pair of reads from the dataset. Unfortunately, that will be very slow!\n",
    "\n",
    "Consider this: Say we are using k=6, and we have a read `a` whose length-6 suffix is GTCCTA. Say GTCCTA does not occur in any other read in the dataset. In other words, the 6-mer GTCCTA occurs at the end of read `a` and nowhere else. It follows that `a`'s suffix cannot possibly overlap the prefix of any other read by 6 or more characters.\n",
    "\n",
    "Put another way, if we want to find the overlaps involving a suffix of read\n",
    "`a` and a prefix of some other read, we can ignore any reads that don't contain the length-k suffix of `a`. This is good news because it can save us a lot of work!\n",
    "\n",
    "Here is a suggestion for how to implement this idea. You don't have to do it this way, but this might help you. Let every k-mer in the dataset have an associated Python set object, which starts out empty. We use a Python dictionary to associate each k-mer with its corresponding set. (1) For every k-mer in a read, we add the read to the set object corresponding to that k-mer. If our read is GATTA and k=3, we would add GATTA to the set objects for GAT, ATT and TTA. We do this for every read so that, at the end, each set contains all reads containing the corresponding k-mer. (2) Now, for each read `a`, we find all overlaps involving a suffix of `a`. To do this, we take `a`'s length-k suffix, find all reads containing that k-mer (obtained from the corresponding set) and call `overlap(a,b min_length=k)` for each.\n",
    "\n",
    "The most important point is that we do not call `overlap(a,b,min_length=k)` if `b` does not contain the length-k suffix of `a`.\n",
    "\n",
    "Download and parse the read sequences from the provided Phi-X FASTQ file. We'll just use their base sequences, so you can ignore read names and base qualities. Also, no two reads in the FASTQ have the same sequence of bases. This makes things simpler.\n",
    "\n",
    "https://d28rh4a8wq0iu5.cloudfront.net/ads1/data/ERR266411_1.for_asm.fastq\n",
    "\n",
    "Next, find all pairs of reads with an exact suffix/prefix match of length at least 30. Don't overlap a read with itself; if a read has a suffix/prefix match to itself, ignore that match. Ignore reverse complements.\n",
    " * Hint 1: Your function should not take much more than 15 seconds to run on this 10,000-read dataset, and maybe much less than that. (Our solution takes about 3 seconds.) If your function is much slower, there is a problem somewhere.\n",
    " * Hint 2: Remember not to overlap a read with itself. If you do, your answers will be too high.\n",
    " * Hint 3: You can test your implementation by making up small examples, then checking that (a) your implementation runs quickly, and (b) you get the same answer as if you had simply called `overlap(a,b,min_length=k)` on every pair of reads. We also have provided a couple examples you can check against.\n",
    "\n",
    "Picture the overlap graph corresponding to the overlaps just calculated."
   ],
   "metadata": {
    "collapsed": false
   }
  },
  {
   "cell_type": "code",
   "execution_count": 2,
   "outputs": [
    {
     "name": "stderr",
     "output_type": "stream",
     "text": [
      "test_no_overlap (__main__.OverlapTestCase) ... ok\n",
      "test_overlap (__main__.OverlapTestCase) ... ok\n",
      "\n",
      "----------------------------------------------------------------------\n",
      "Ran 2 tests in 0.006s\n",
      "\n",
      "OK\n"
     ]
    }
   ],
   "source": [
    "def overlap(a: str, b: str, min_length=3) -> int:\n",
    "    \"\"\"Return length of the longest suffix of 'a' matching\n",
    "    a prefix of 'b' that is at least 'min_length' characters\n",
    "    long. If no such overlap exists, return 0.\n",
    "\n",
    "    Parameters\n",
    "    ----------\n",
    "    a : str\n",
    "        String to test its suffix\n",
    "    b : str\n",
    "        String to test its prefix\n",
    "    min_length : int\n",
    "        Minimum length of match\n",
    "\n",
    "    Returns\n",
    "    -------\n",
    "    int\n",
    "        Longest overlap between suffix of 'a' with prefix of 'b'. Zero (0) otherwise\n",
    "    \"\"\"\n",
    "    start = 0  # start all the way at the left\n",
    "    # MGH addition, min length must be positive\n",
    "    if min_length < 1:\n",
    "        raise ValueError(\"min_length must be positive definite\")\n",
    "    # MGH addition, edge case if len(b) < min_length, then should return 0\n",
    "    if len(b) < min_length:\n",
    "        return 0\n",
    "    while True:\n",
    "        start = a.find(b[:min_length], start)  # look for b's prefix in a\n",
    "        if start == -1:  # no more occurrences to right\n",
    "            return 0\n",
    "        # found occurrence; check for full suffix/prefix match\n",
    "        if b.startswith(a[start:]):\n",
    "            return len(a)-start\n",
    "        start += 1  # move just past previous match\n",
    "\n",
    "\n",
    "class OverlapTestCase(unittest.TestCase):\n",
    "\n",
    "    def test_overlap(self):\n",
    "        r1 = \"ABCDEF\"\n",
    "        #       ||||  <-- four overlaps\n",
    "        r2 =   \"CDEFGH\"\n",
    "        n_overlaps = 4\n",
    "        for i in range(1, n_overlaps + 1):\n",
    "            self.assertEqual(\n",
    "                overlap(r1, r2 ,i),\n",
    "                n_overlaps\n",
    "            )\n",
    "\n",
    "    def test_no_overlap(self):\n",
    "\n",
    "        r1 = \"ABCDEF\"\n",
    "        #       ||||  <-- four overlaps\n",
    "        r2 =   \"CDEFGH\"\n",
    "        n_overlaps = 4\n",
    "        for i in range(n_overlaps + 1, n_overlaps + 3):\n",
    "            self.assertEqual(\n",
    "                overlap(r1, r2 ,i),\n",
    "                0\n",
    "            )\n",
    "\n",
    "        # Edge case when pattern is shorter than min length\n",
    "        self.assertEqual(\n",
    "            overlap(\n",
    "                \"ABCDEF\",\n",
    "                #    ||  <-- two overlaps\n",
    "                    \"EF\",\n",
    "                3),   #  <-- min 3-length\n",
    "            0\n",
    "        )\n",
    "\n",
    "\n",
    "res = unittest.main(argv=[''], verbosity=3, exit=False)\n",
    "assert len(res.result.failures) == 0"
   ],
   "metadata": {
    "collapsed": false
   }
  },
  {
   "cell_type": "code",
   "execution_count": null,
   "outputs": [],
   "source": [
    "!wget https://d28rh4a8wq0iu5.cloudfront.net/ads1/data/ERR266411_1.for_asm.fastq\n",
    "!mkdir -p week3hw\n",
    "!mv ERR266411_1.for_asm.fastq week3hw"
   ],
   "metadata": {
    "collapsed": false
   }
  },
  {
   "cell_type": "code",
   "execution_count": 3,
   "outputs": [],
   "source": [
    "fq_file = Path(\"week3hw/ERR266411_1.for_asm.fastq\")\n",
    "\n",
    "with fq_file.open(\"r\") as fq_handle:\n",
    "    fastq_reads: list[SeqRecord] = list(parse(fq_handle, fq_file.suffix.strip(\".\")))\n",
    "    fastq_reads_str: list[str] = [str(read.seq) for read in fastq_reads]"
   ],
   "metadata": {
    "collapsed": false
   }
  },
  {
   "cell_type": "code",
   "execution_count": 4,
   "outputs": [
    {
     "data": {
      "text/plain": "10000"
     },
     "execution_count": 4,
     "metadata": {},
     "output_type": "execute_result"
    }
   ],
   "source": [
    "len(fastq_reads_str)"
   ],
   "metadata": {
    "collapsed": false
   }
  },
  {
   "cell_type": "code",
   "execution_count": 47,
   "outputs": [
    {
     "name": "stderr",
     "output_type": "stream",
     "text": [
      "test_pairs (__main__.OverlapPairsTestCase) ... ok\n",
      "test_no_overlap (__main__.OverlapTestCase) ... ok\n",
      "test_overlap (__main__.OverlapTestCase) ... ok\n",
      "\n",
      "----------------------------------------------------------------------\n",
      "Ran 3 tests in 0.020s\n",
      "\n",
      "OK\n"
     ]
    }
   ],
   "source": [
    "from collections import defaultdict\n",
    "\n",
    "Kmer: TypeAlias = str\n",
    "ReadIndex: TypeAlias = int\n",
    "\n",
    "\n",
    "def overlap_all_pairs(\n",
    "    reads: list[str],\n",
    "    kmer_len: int\n",
    ") -> list[tuple[ReadIndex, ReadIndex]]:\n",
    "    \"\"\"Find all overlapping exact pairs of reads between (suffix, prefix)\n",
    "\n",
    "    Parameters\n",
    "    ----------\n",
    "    reads : list[str]\n",
    "        All the reads\n",
    "    kmer_len : int\n",
    "        Length of kmers\n",
    "\n",
    "    Returns\n",
    "    -------\n",
    "    list[tuple[ReadIndex, ReadIndex]]\n",
    "        Overlap pairs\n",
    "    \"\"\"\n",
    "    kmers_to_reads: dict[Kmer, set[ReadIndex]] = defaultdict(set)\n",
    "    overlap_pairs: list[tuple[ReadIndex, ReadIndex]] = []\n",
    "\n",
    "    # Final all kmers in the reads\n",
    "    for read_index in range(len(reads)):\n",
    "        read = reads[read_index]\n",
    "        for index in range(len(read) - kmer_len + 1):\n",
    "            kmer = read[index: index + kmer_len]\n",
    "            kmers_to_reads[kmer].add(read_index)\n",
    "\n",
    "    # Check each read for overlap\n",
    "    for read_index_a in range(len(reads)):\n",
    "        read_a = reads[read_index_a]\n",
    "        kmer_suffix_a = read_a[-kmer_len:]\n",
    "        possible_reads = kmers_to_reads[kmer_suffix_a]\n",
    "        for read_index_b in possible_reads:\n",
    "            if read_index_a == read_index_b:\n",
    "                continue\n",
    "            read_b = reads[read_index_b]\n",
    "            overlap_ab = overlap(read_a, read_b, kmer_len)\n",
    "            if overlap_ab >= kmer_len:\n",
    "                overlap_pairs.append((read_a, read_b))\n",
    "    return overlap_pairs\n",
    "\n",
    "\n",
    "class OverlapPairsTestCase(unittest.TestCase):\n",
    "\n",
    "    def test_pairs(self):\n",
    "        test_reads_1 = ['ABCDEFG', 'EFGHIJ', 'HIJABC']\n",
    "        pairs_1 = sorted(overlap_all_pairs(test_reads_1, 3))\n",
    "        expected_pairs_1 = sorted(\n",
    "            [('ABCDEFG', 'EFGHIJ'),\n",
    "             ('EFGHIJ', 'HIJABC'),\n",
    "             ('HIJABC', 'ABCDEFG')]\n",
    "        )\n",
    "        for p1, ex_p1 in zip(pairs_1, expected_pairs_1):\n",
    "            self.assertListEqual(\n",
    "                list(p1),\n",
    "                list(ex_p1)\n",
    "            )\n",
    "\n",
    "        test_reads_2 = ['CGTACG', 'TACGTA', 'GTACGT', 'ACGTAC', 'GTACGA', 'TACGAT']\n",
    "        pairs_2 = sorted(overlap_all_pairs(test_reads_2, 4))\n",
    "        expected_pairs_2 = sorted([\n",
    "            ('CGTACG', 'TACGTA'),\n",
    "            ('CGTACG', 'GTACGT'),\n",
    "            ('CGTACG', 'GTACGA'),\n",
    "            ('CGTACG', 'TACGAT'),\n",
    "            ('TACGTA', 'ACGTAC'),\n",
    "            ('TACGTA', 'CGTACG'),\n",
    "            ('GTACGT', 'TACGTA'),\n",
    "            ('GTACGT', 'ACGTAC'),\n",
    "            ('ACGTAC', 'GTACGA'),\n",
    "            ('ACGTAC', 'GTACGT'),\n",
    "            ('ACGTAC', 'CGTACG'),\n",
    "            ('GTACGA', 'TACGAT')\n",
    "        ])\n",
    "        for p2, ex_p2 in zip(pairs_2, expected_pairs_2):\n",
    "            self.assertListEqual(\n",
    "                list(p2),\n",
    "                list(ex_p2)\n",
    "            )\n",
    "\n",
    "        pairs_3 = sorted(overlap_all_pairs(test_reads_2, 5))\n",
    "        expected_pairs_3 = sorted(\n",
    "            [('CGTACG', 'GTACGT'),\n",
    "             ('CGTACG', 'GTACGA'),\n",
    "             ('TACGTA', 'ACGTAC'),\n",
    "             ('GTACGT', 'TACGTA'),\n",
    "             ('ACGTAC', 'CGTACG'),\n",
    "             ('GTACGA', 'TACGAT')]\n",
    "        )\n",
    "        for p3, ex_p3 in zip(pairs_3, expected_pairs_3):\n",
    "            self.assertListEqual(\n",
    "                list(p3),\n",
    "                list(ex_p3)\n",
    "            )\n",
    "\n",
    "\n",
    "\n",
    "res = unittest.main(argv=[''], verbosity=3, exit=False)\n",
    "assert len(res.result.failures) == 0"
   ],
   "metadata": {
    "collapsed": false
   }
  },
  {
   "cell_type": "code",
   "execution_count": 29,
   "outputs": [
    {
     "data": {
      "text/plain": "[('CGTACG', 'GTACGT'),\n ('CGTACG', 'GTACGA'),\n ('TACGTA', 'ACGTAC'),\n ('GTACGT', 'TACGTA'),\n ('ACGTAC', 'CGTACG'),\n ('GTACGA', 'TACGAT')]"
     },
     "execution_count": 29,
     "metadata": {},
     "output_type": "execute_result"
    }
   ],
   "source": [
    "overlap_all_pairs(test_reads_2, 5)"
   ],
   "metadata": {
    "collapsed": false
   }
  },
  {
   "cell_type": "markdown",
   "source": [
    "How many edges are in the graph? In other words, how many distinct pairs of reads overlap?"
   ],
   "metadata": {
    "collapsed": false
   }
  },
  {
   "cell_type": "code",
   "execution_count": 40,
   "outputs": [],
   "source": [
    "fastq_pairs = overlap_all_pairs(fastq_reads_str, 30)"
   ],
   "metadata": {
    "collapsed": false
   }
  },
  {
   "cell_type": "code",
   "execution_count": 41,
   "outputs": [
    {
     "name": "stdout",
     "output_type": "stream",
     "text": [
      "904746\n"
     ]
    }
   ],
   "source": [
    "print(len(fastq_pairs))"
   ],
   "metadata": {
    "collapsed": false
   }
  },
  {
   "cell_type": "markdown",
   "source": [
    "The answer is __904746__. Answer verified!"
   ],
   "metadata": {
    "collapsed": false
   }
  },
  {
   "cell_type": "markdown",
   "source": [
    "## Q4\n",
    "\n",
    "Picture/ the overlap graph corresponding to the overlaps computed for the previous question. How many nodes in this graph have at least one outgoing edge?  (In other words, how many reads have a suffix involved in an overlap?)"
   ],
   "metadata": {
    "collapsed": false
   }
  },
  {
   "cell_type": "code",
   "execution_count": 42,
   "outputs": [
    {
     "name": "stdout",
     "output_type": "stream",
     "text": [
      "7161\n"
     ]
    }
   ],
   "source": [
    "nodes = set()\n",
    "for pair in fastq_pairs:\n",
    "    nodes.add(pair[0])\n",
    "    # nodes.add(pair[1])\n",
    "print(len(nodes))"
   ],
   "metadata": {
    "collapsed": false
   }
  },
  {
   "cell_type": "markdown",
   "source": [
    "The answer is __7161__."
   ],
   "metadata": {
    "collapsed": false
   }
  }
 ],
 "metadata": {
  "kernelspec": {
   "display_name": "Python 3",
   "language": "python",
   "name": "python3"
  },
  "language_info": {
   "codemirror_mode": {
    "name": "ipython",
    "version": 2
   },
   "file_extension": ".py",
   "mimetype": "text/x-python",
   "name": "python",
   "nbconvert_exporter": "python",
   "pygments_lexer": "ipython2",
   "version": "2.7.6"
  }
 },
 "nbformat": 4,
 "nbformat_minor": 0
}
