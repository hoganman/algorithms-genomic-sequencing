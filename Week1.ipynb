{
 "cells": [
  {
   "cell_type": "code",
   "execution_count": 183,
   "outputs": [],
   "source": [
    "%matplotlib inline"
   ],
   "metadata": {
    "collapsed": false
   }
  },
  {
   "cell_type": "code",
   "execution_count": 282,
   "outputs": [],
   "source": [
    "import random\n",
    "from typing import Dict, Literal, TypeAlias, Union\n",
    "from pathlib import Path\n",
    "from collections import Counter\n",
    "\n",
    "import matplotlib.pyplot as plt\n",
    "import numpy as np"
   ],
   "metadata": {
    "collapsed": false
   }
  },
  {
   "cell_type": "code",
   "execution_count": 17,
   "outputs": [],
   "source": [
    "random.seed(42)"
   ],
   "metadata": {
    "collapsed": false
   }
  },
  {
   "cell_type": "code",
   "execution_count": 124,
   "outputs": [],
   "source": [
    "# Testing two variants of the same function for computational efficiency\n",
    "DNA_NUCLEOTIDES: TypeAlias = Literal[\"A\", \"T\", \"C\", \"G\", \"N\"]\n",
    "DNA_NUCLEOTIDE_STR: TypeAlias = Union[Literal[\"A\", \"T\", \"C\", \"G\", \"N\", \"\"]]\n",
    "RNA_NUCLEOTIDES: TypeAlias = Literal[\"A\", \"U\", \"C\", \"G\", \"N\"]\n",
    "RNA_NUCLEOTIDE_STR: TypeAlias = Union[Literal[\"A\", \"U\", \"C\", \"G\", \"N\", \"\"]]\n",
    "\n",
    "DNA_BASE_PAIRS: Dict[DNA_NUCLEOTIDES, DNA_NUCLEOTIDES] = {\n",
    "    \"A\": \"T\",\n",
    "    \"T\": \"A\",\n",
    "    \"C\": \"G\",\n",
    "    \"G\": \"C\",\n",
    "    \"N\": \"N\"\n",
    "}\n",
    "\n",
    "RNA_BASE_PAIRS: Dict[RNA_NUCLEOTIDES, RNA_NUCLEOTIDES] = {\n",
    "    \"A\": \"U\",\n",
    "    \"U\": \"A\",\n",
    "    \"C\": \"G\",\n",
    "    \"G\": \"C\",\n",
    "    \"N\": \"N\"\n",
    "}\n",
    "\n",
    "\n",
    "def naive(\n",
    "    pat,\n",
    "    ref\n",
    "):\n",
    "    \"\"\"Find all the alignments use naive pattern matching of a pattern\n",
    "    against a reference string\n",
    "\n",
    "    Parameters\n",
    "    ----------\n",
    "    pat : str\n",
    "        Pattern string\n",
    "    ref : str\n",
    "        Reference string\n",
    "\n",
    "    Returns\n",
    "    -------\n",
    "    list[int]\n",
    "        Alignment offsets\n",
    "\n",
    "    >>> p, ten_as = \"CCC\", \"A\" * 10\n",
    "    >>> t = ten_as + \"CCC\" + ten_as + \"GGG\" + ten_as\n",
    "    >>> naive_with_rc(p, t)\n",
    "    [10]\n",
    "    \"\"\"\n",
    "    occurrences: list[int] = []\n",
    "    for i in range(len(ref) - len(pat) + 1):  # loop over alignments\n",
    "        match = True\n",
    "        for j in range(len(pat)):  # loop over characters\n",
    "            if ref[i + j] != pat[j]:  # compare characters\n",
    "                match = False\n",
    "                break\n",
    "        if match:\n",
    "            occurrences.append(i)  # all chars matched; record\n",
    "    return occurrences\n",
    "\n",
    "\n",
    "def reverse_complement(\n",
    "    seq,\n",
    "    *,\n",
    "    rna=False\n",
    "):\n",
    "    \"\"\"Get the reverse complement of a nucleotide sequence\n",
    "\n",
    "    Parameters\n",
    "    ----------\n",
    "    seq : str\n",
    "        Sequence of nucleotides\n",
    "    rna : bool\n",
    "        Is a RNA sequence (default=False)\n",
    "\n",
    "    Returns\n",
    "    -------\n",
    "    str\n",
    "        Reverse complement\n",
    "\n",
    "    >>> reverse_complement(\"ATC\")\n",
    "    \"GAT\"\n",
    "    >>> reverse_complement(\"UAGC\", rna=True)\n",
    "    \"AUCG\n",
    "    \"\"\"\n",
    "    complements = RNA_BASE_PAIRS if rna else DNA_BASE_PAIRS\n",
    "    return \"\".join(reversed([complements[char] for char in seq]))\n",
    "\n",
    "\n",
    "naive_forward = naive\n",
    "\n",
    "def naive_with_rc(\n",
    "    pat,\n",
    "    ref,\n",
    "    *,\n",
    "    rna=False\n",
    "):\n",
    "    \"\"\"Find all pattern and its reverse complement matches in a reference string\n",
    "\n",
    "    Parameters\n",
    "    ----------\n",
    "    pat : str\n",
    "        Pattern string\n",
    "    ref : str\n",
    "        Reference string\n",
    "    rna : bool\n",
    "        If pattern is RNA (default=False)\n",
    "\n",
    "    Returns\n",
    "    -------\n",
    "    list[int]\n",
    "        occurrences of the pattern\n",
    "\n",
    "    >>> p, ten_as = \"CCC\", \"A\" * 10\n",
    "    >>> t = ten_as + \"CCC\" + ten_as + \"GGG\" + ten_as\n",
    "    >>> naive_with_rc(p, t)\n",
    "    [10, 23]\n",
    "    \"\"\"\n",
    "    occurrences: list[int] = []\n",
    "    rc_pat = reverse_complement(pat, rna=rna)\n",
    "    rc_is_palindrome = rc_pat == pat\n",
    "    for i in range(len(ref) - len(pat) + 1):  # loop over alignments\n",
    "        match = True\n",
    "        # If RC is a palindrome (True), then rc_match is set to False\n",
    "        # as there is no need to repeat the comparison\n",
    "        rc_match = not rc_is_palindrome\n",
    "        for j in range(len(pat)):  # loop over characters\n",
    "            if match and ref[i + j] != pat[j]:\n",
    "                match = False\n",
    "            if rc_match and ref[i + j] != rc_pat[j]:\n",
    "                rc_match = False\n",
    "            if not match and not rc_match:\n",
    "                break\n",
    "        if match or rc_match:\n",
    "            occurrences.append(i)  # all chars matched; record\n",
    "    return occurrences\n",
    "\n",
    "\n",
    "def read_genome(fasta):\n",
    "    \"\"\"Read a genome from a FASTA file\n",
    "\n",
    "    Parameters\n",
    "    ----------\n",
    "    fasta : str\n",
    "        FASTA filename\n",
    "\n",
    "    Returns\n",
    "    -------\n",
    "    str\n",
    "        Single strand genome\n",
    "    \"\"\"\n",
    "    genome: DNA_NUCLEOTIDE_STR = \"\"\n",
    "    with open(fasta, 'r') as f:\n",
    "        for line in f:\n",
    "            # ignore header line with genome information\n",
    "            if not line[0] == '>':\n",
    "                genome += line.rstrip()\n",
    "    return genome\n",
    "\n",
    "\n",
    "def read_fastq(fastq):\n",
    "    \"\"\"Get the reads and associated PHRED qualities from a FASTQ file\n",
    "\n",
    "    Parameters\n",
    "    ----------\n",
    "    fastq : str\n",
    "        FASTQ file with reads\n",
    "\n",
    "    Returns\n",
    "    -------\n",
    "    tuple[list[str], list[str]]\n",
    "        Matching lists of sequences and corresponding PHRED quality\n",
    "    \"\"\"\n",
    "    sequences: list[DNA_NUCLEOTIDE_STR] = []\n",
    "    qualities: list[str] = []\n",
    "    with open(fastq, 'r') as fh:\n",
    "        while True:\n",
    "            try:\n",
    "                fh.readline()  # skip name line\n",
    "                seq = fh.readline().rstrip()  # read base sequence\n",
    "                fh.readline()  # skip placeholder line\n",
    "                qual = fh.readline().rstrip() # base quality line\n",
    "                if len(seq) == 0:\n",
    "                    break\n",
    "                sequences.append(seq)\n",
    "                qualities.append(qual)\n",
    "            except:\n",
    "                continue\n",
    "    return sequences, qualities"
   ],
   "metadata": {
    "collapsed": false
   }
  },
  {
   "cell_type": "code",
   "execution_count": 105,
   "outputs": [
    {
     "data": {
      "text/plain": "40"
     },
     "execution_count": 105,
     "metadata": {},
     "output_type": "execute_result"
    }
   ],
   "source": [
    "\"\"\"Some converters between PHRED and Q=-10*log(p) measurements\"\"\"\n",
    "def phred_2_quality(phred: str) -> int:\n",
    "    return ord(phred) - 33\n",
    "\n",
    "def quality_2_phred(quality: float) -> str:\n",
    "    return str(quality + 33)\n",
    "\n",
    "phred_2_quality(\"I\")"
   ],
   "metadata": {
    "collapsed": false
   }
  },
  {
   "cell_type": "code",
   "execution_count": 106,
   "outputs": [
    {
     "name": "stdout",
     "output_type": "stream",
     "text": [
      "--2022-11-24 15:11:35--  https://d28rh4a8wq0iu5.cloudfront.net/ads1/data/lambda_virus.fa\r\n",
      "Resolving d28rh4a8wq0iu5.cloudfront.net (d28rh4a8wq0iu5.cloudfront.net)... 108.156.200.29, 108.156.200.25, 108.156.200.204, ...\r\n",
      "Connecting to d28rh4a8wq0iu5.cloudfront.net (d28rh4a8wq0iu5.cloudfront.net)|108.156.200.29|:443... connected.\r\n",
      "HTTP request sent, awaiting response... 200 OK\r\n",
      "Length: 49270 (48K) [application/octet-stream]\r\n",
      "Saving to: ‘lambda_virus.fa’\r\n",
      "\r\n",
      "lambda_virus.fa     100%[===================>]  48.12K  --.-KB/s    in 0.008s  \r\n",
      "\r\n",
      "2022-11-24 15:11:35 (5.60 MB/s) - ‘lambda_virus.fa’ saved [49270/49270]\r\n",
      "\r\n"
     ]
    }
   ],
   "source": [
    "!wget https://d28rh4a8wq0iu5.cloudfront.net/ads1/data/lambda_virus.fa\n",
    "!mkdir -p week1hw\n",
    "!mv lambda_virus.fa week1hw"
   ],
   "metadata": {
    "collapsed": false
   }
  },
  {
   "cell_type": "code",
   "execution_count": 107,
   "outputs": [
    {
     "name": "stdout",
     "output_type": "stream",
     "text": [
      "--2022-11-24 15:11:36--  http://d396qusza40orc.cloudfront.net/ads1/data/phix.fa\r\n",
      "Resolving d396qusza40orc.cloudfront.net (d396qusza40orc.cloudfront.net)... 108.156.200.176, 108.156.200.24, 108.156.200.181, ...\r\n",
      "Connecting to d396qusza40orc.cloudfront.net (d396qusza40orc.cloudfront.net)|108.156.200.176|:80... connected.\r\n",
      "HTTP request sent, awaiting response... 200 OK\r\n",
      "Length: 5528 (5.4K) [application/octet-stream]\r\n",
      "Saving to: ‘phix.fa’\r\n",
      "\r\n",
      "phix.fa             100%[===================>]   5.40K  --.-KB/s    in 0s      \r\n",
      "\r\n",
      "2022-11-24 15:11:36 (71.2 MB/s) - ‘phix.fa’ saved [5528/5528]\r\n",
      "\r\n"
     ]
    }
   ],
   "source": [
    "!wget http://d396qusza40orc.cloudfront.net/ads1/data/phix.fa\n",
    "!mkdir -p week1hw\n",
    "!mv phix.fa week1hw"
   ],
   "metadata": {
    "collapsed": false
   }
  },
  {
   "cell_type": "code",
   "execution_count": 108,
   "outputs": [
    {
     "name": "stdout",
     "output_type": "stream",
     "text": [
      "[10, 23]\n"
     ]
    }
   ],
   "source": [
    "p = 'CCC'\n",
    "ten_as = 'AAAAAAAAAA'\n",
    "five_gs = 'G' * 5\n",
    "t = ten_as + 'CCC' + ten_as + 'GGG' + ten_as\n",
    "test_occurrences = naive_with_rc(p, t)\n",
    "print(test_occurrences)"
   ],
   "metadata": {
    "collapsed": false
   }
  },
  {
   "cell_type": "code",
   "execution_count": 109,
   "outputs": [
    {
     "name": "stdout",
     "output_type": "stream",
     "text": [
      "[10, 24]\n"
     ]
    }
   ],
   "source": [
    "p = 'CGCG'\n",
    "t = ten_as + 'CGCG' + ten_as + 'CGCG' + ten_as\n",
    "test_occurrences = naive_with_rc(p, t)\n",
    "print(test_occurrences)\n"
   ],
   "metadata": {
    "collapsed": false
   }
  },
  {
   "cell_type": "code",
   "execution_count": 110,
   "outputs": [
    {
     "name": "stdout",
     "output_type": "stream",
     "text": [
      "[5]\n"
     ]
    }
   ],
   "source": [
    "p = 'CGCG'\n",
    "t = five_gs + 'CGCG' + ten_as + 'CCCC' + five_gs\n",
    "test_occurrences = naive_with_rc(p, t)\n",
    "print(test_occurrences)\n"
   ],
   "metadata": {
    "collapsed": false
   }
  },
  {
   "cell_type": "code",
   "execution_count": 125,
   "outputs": [],
   "source": [
    "phix_genome = read_genome(str(Path(\"week1hw/phix.fa\")))\n",
    "lambda_genome = read_genome(str(Path(\"week1hw/lambda_virus.fa\")))"
   ],
   "metadata": {
    "collapsed": false
   }
  },
  {
   "cell_type": "code",
   "execution_count": 112,
   "outputs": [
    {
     "data": {
      "text/plain": "'GAGTTTTATCGCTTCCATGACGCAGAAGTTAACACTTTCGGATATTTCTGATGAGTCGAAAAATTATCTT'"
     },
     "execution_count": 112,
     "metadata": {},
     "output_type": "execute_result"
    }
   ],
   "source": [
    "phix_genome[0:70]"
   ],
   "metadata": {
    "collapsed": false
   }
  },
  {
   "cell_type": "code",
   "execution_count": 120,
   "outputs": [
    {
     "data": {
      "text/plain": "[62, 82, 103, 245, 341, 373, 440, 639, 707, 710]"
     },
     "execution_count": 120,
     "metadata": {},
     "output_type": "execute_result"
    }
   ],
   "source": [
    "test_occurrences = naive_with_rc('ATTA', phix_genome)\n",
    "test_occurrences[0:10]"
   ],
   "metadata": {
    "collapsed": false
   }
  },
  {
   "cell_type": "code",
   "execution_count": 121,
   "outputs": [
    {
     "name": "stdout",
     "output_type": "stream",
     "text": [
      "offset of leftmost occurrence: 62\n"
     ]
    }
   ],
   "source": [
    "print('offset of leftmost occurrence: %d' % min(test_occurrences))"
   ],
   "metadata": {
    "collapsed": false
   }
  },
  {
   "cell_type": "code",
   "execution_count": 122,
   "outputs": [
    {
     "name": "stdout",
     "output_type": "stream",
     "text": [
      "# occurrences: 60\n"
     ]
    }
   ],
   "source": [
    "print('# occurrences: %d' % len(test_occurrences))"
   ],
   "metadata": {
    "collapsed": false
   }
  },
  {
   "cell_type": "markdown",
   "source": [
    "# Quiz"
   ],
   "metadata": {
    "collapsed": false
   }
  },
  {
   "cell_type": "markdown",
   "source": [
    "## Q1 How many times does AGGT or its reverse complement (ACCT) occur in the lambda virus genome?  E.g. if AGGT occurs 10 times and ACCT occurs 12 times, you should report 22."
   ],
   "metadata": {
    "collapsed": false
   }
  },
  {
   "cell_type": "code",
   "execution_count": 294,
   "outputs": [
    {
     "name": "stdout",
     "output_type": "stream",
     "text": [
      "AGGT # occurrences: 306\n"
     ]
    }
   ],
   "source": [
    "print('AGGT # occurrences: %d' % len(naive_with_rc(\"AGGT\", lambda_genome)))"
   ],
   "metadata": {
    "collapsed": false
   }
  },
  {
   "cell_type": "markdown",
   "source": [
    "## Q2: How many times does TTAA or its reverse complement occur in the lambda virus genome?"
   ],
   "metadata": {
    "collapsed": false
   }
  },
  {
   "cell_type": "code",
   "execution_count": 128,
   "outputs": [
    {
     "name": "stdout",
     "output_type": "stream",
     "text": [
      "TTAA # occurrences: 195\n"
     ]
    }
   ],
   "source": [
    "print('TTAA # occurrences: %d' % len(naive_with_rc(\"TTAA\", lambda_genome)))"
   ],
   "metadata": {
    "collapsed": false
   }
  },
  {
   "cell_type": "markdown",
   "source": [
    "## Q3: What is the offset of the leftmost occurrence of ACTAAGT or its reverse complement in the Lambda virus genome?  E.g. if the leftmost occurrence of ACTAAGT is at offset 40 (0-based) and the leftmost occurrence of its reverse complement ACTTAGT is at offset 29, then report 29."
   ],
   "metadata": {
    "collapsed": false
   }
  },
  {
   "cell_type": "code",
   "execution_count": 131,
   "outputs": [
    {
     "name": "stdout",
     "output_type": "stream",
     "text": [
      "ACTAAGT # left-most offset: 26028\n"
     ]
    }
   ],
   "source": [
    "print('ACTAAGT # left-most offset: %d' % min(naive_with_rc(\"ACTAAGT\", lambda_genome)))"
   ],
   "metadata": {
    "collapsed": false
   }
  },
  {
   "cell_type": "markdown",
   "source": [
    "## Q4: What is the offset of the leftmost occurrence of AGTCGA or its reverse complement in the Lambda virus genome?"
   ],
   "metadata": {
    "collapsed": false
   }
  },
  {
   "cell_type": "code",
   "execution_count": 132,
   "outputs": [
    {
     "name": "stdout",
     "output_type": "stream",
     "text": [
      "AGTCGA # left-most offset: 450\n"
     ]
    }
   ],
   "source": [
    "print('AGTCGA # left-most offset: %d' % min(naive_with_rc(\"AGTCGA\", lambda_genome)))"
   ],
   "metadata": {
    "collapsed": false
   }
  },
  {
   "cell_type": "markdown",
   "source": [
    "## Q5 and Q6 Preamble\n",
    "\n",
    "As we will discuss, sometimes we would like to find approximate matches for P in T. That is, we want to find occurrences with one or more differences.\n",
    "\n",
    "For Questions 5 and 6, make a new version of the naive function called naive_2mm that allows up to 2 mismatches per occurrence. Unlike for the previous questions, do not consider the reverse complement here.  We're looking for approximate matches for P itself, not its reverse complement.\n",
    "\n",
    "￼\n",
    "\n",
    "For example, ACTTTAACTTTA occurs twice in ACTTACTTGATAAAGT, once at offset 0 with 2 mismatches, and once at offset 4 with 1 mismatch. So naive_2mm('ACTTTA','ACTTACTTGATAAAGT') should return the list [0, 4]"
   ],
   "metadata": {
    "collapsed": false
   }
  },
  {
   "cell_type": "code",
   "execution_count": 138,
   "outputs": [
    {
     "name": "stdout",
     "output_type": "stream",
     "text": [
      "[0, 4]\n",
      "[10, 24, 38]\n",
      "offset of leftmost occurrence: 10\n",
      "# occurrences: 79\n"
     ]
    }
   ],
   "source": [
    "def naive_with_mm(\n",
    "    pat,\n",
    "    ref,\n",
    "    mm,\n",
    "):\n",
    "    \"\"\"Find all pattern matches in a reference string allowing for mismatches\n",
    "\n",
    "    Parameters\n",
    "    ----------\n",
    "    pat : str\n",
    "        Pattern string\n",
    "    ref : str\n",
    "        Reference string\n",
    "    mm : int\n",
    "        Number of allowed mismatches\n",
    "\n",
    "    Returns\n",
    "    -------\n",
    "    list[int]\n",
    "        occurrences of the pattern\n",
    "\n",
    "    \"\"\"\n",
    "    occurrences: list[int] = []\n",
    "    for i in range(len(ref) - len(pat) + 1):  # loop over alignments\n",
    "        match = True\n",
    "        mm_counter = 0\n",
    "        for j in range(len(pat)):  # loop over characters\n",
    "            if match and ref[i + j] != pat[j]:\n",
    "                mm_counter += 1\n",
    "            if mm_counter > mm:\n",
    "                match = False\n",
    "                break\n",
    "        if match:\n",
    "            occurrences.append(i)  # all chars matched; record\n",
    "    return occurrences\n",
    "\n",
    "\n",
    "def naive_2mm(\n",
    "    pat,\n",
    "    ref,\n",
    "):\n",
    "    \"\"\"Naive matching allowing for 2 mismatches\"\"\"\n",
    "    return naive_with_mm(pat, ref, mm=2)\n",
    "\n",
    "\n",
    "print(naive_2mm(\"ACTTTA\",\"ACTTACTTGATAAAGT\"))\n",
    "p = 'CTGT'\n",
    "ten_as = 'AAAAAAAAAA'\n",
    "t = ten_as + 'CTGT' + ten_as + 'CTTT' + ten_as + 'CGGG' + ten_as\n",
    "print(naive_2mm(p, t))\n",
    "occurrences = naive_2mm(\"GATTACA\", phix_genome)\n",
    "print('offset of leftmost occurrence: %d' % min(occurrences))\n",
    "print('# occurrences: %d' % len(occurrences))"
   ],
   "metadata": {
    "collapsed": false
   }
  },
  {
   "cell_type": "markdown",
   "source": [
    "## Q5: How many times does TTCAAGCC occur in the Lambda virus genome when allowing up to 2 mismatches?"
   ],
   "metadata": {
    "collapsed": false
   }
  },
  {
   "cell_type": "code",
   "execution_count": 142,
   "outputs": [
    {
     "name": "stdout",
     "output_type": "stream",
     "text": [
      "TTCAAGCC # occurrences: 191\n"
     ]
    }
   ],
   "source": [
    "print('TTCAAGCC # occurrences: %d' % len(naive_2mm(\"TTCAAGCC\", lambda_genome)))"
   ],
   "metadata": {
    "collapsed": false
   }
  },
  {
   "cell_type": "markdown",
   "source": [
    "## Q6: What is the offset of the leftmost occurrence of AGGAGGTT in the Lambda virus genome when allowing up to 2 mismatches?"
   ],
   "metadata": {
    "collapsed": false
   }
  },
  {
   "cell_type": "code",
   "execution_count": 143,
   "outputs": [
    {
     "name": "stdout",
     "output_type": "stream",
     "text": [
      "AGGAGGTT # left-most offset: 49\n"
     ]
    }
   ],
   "source": [
    "print('AGGAGGTT # left-most offset: %d' % min(naive_2mm(\"AGGAGGTT\", lambda_genome)))"
   ],
   "metadata": {
    "collapsed": false
   }
  },
  {
   "cell_type": "markdown",
   "source": [
    "## Q7\n",
    "\n",
    "Finally, download and parse the provided FASTQ file containing real DNA sequencing reads derived from a human:\n",
    "\n",
    " https://d28rh4a8wq0iu5.cloudfront.net/ads1/data/ERR037900_1.first1000.fastq\n",
    "\n",
    "Note that the file has many reads in it and you should examine all of them together when answering this question.  The reads are taken from this study:\n",
    "\n",
    "Ajay, S. S., Parker, S. C., Abaan, H. O., Fajardo, K. V. F., & Margulies, E. H. (2011). Accurate\n",
    "\n",
    "and comprehensive sequencing of personal genomes. Genome research, 21(9), 1498-1505.\n",
    "\n",
    "This dataset has something wrong with it; one of the sequencing cycles is poor quality.\n",
    "\n",
    "Report which sequencing cycle has the problem.  Remember that a sequencing cycle corresponds to a particular offset in all the reads. For example, if the leftmost read position seems to have a problem consistently across reads, report 0. If the fourth position from the left has the problem, report 3. Do whatever analysis you think is needed to identify the bad cycle. It might help to review the \"Analyzing reads by position\" video."
   ],
   "metadata": {
    "collapsed": false
   }
  },
  {
   "cell_type": "code",
   "execution_count": 144,
   "outputs": [
    {
     "name": "stdout",
     "output_type": "stream",
     "text": [
      "--2022-11-25 11:59:38--  https://d28rh4a8wq0iu5.cloudfront.net/ads1/data/ERR037900_1.first1000.fastq\r\n",
      "Resolving d28rh4a8wq0iu5.cloudfront.net (d28rh4a8wq0iu5.cloudfront.net)... 108.156.200.204, 108.156.200.104, 108.156.200.29, ...\r\n",
      "Connecting to d28rh4a8wq0iu5.cloudfront.net (d28rh4a8wq0iu5.cloudfront.net)|108.156.200.204|:443... connected.\r\n",
      "HTTP request sent, awaiting response... 200 OK\r\n",
      "Length: 241626 (236K) [application/octet-stream]\r\n",
      "Saving to: ‘ERR037900_1.first1000.fastq’\r\n",
      "\r\n",
      "ERR037900_1.first10 100%[===================>] 235.96K  --.-KB/s    in 0.1s    \r\n",
      "\r\n",
      "2022-11-25 11:59:39 (1.83 MB/s) - ‘ERR037900_1.first1000.fastq’ saved [241626/241626]\r\n",
      "\r\n"
     ]
    }
   ],
   "source": [
    "!wget https://d28rh4a8wq0iu5.cloudfront.net/ads1/data/ERR037900_1.first1000.fastq\n",
    "!mkdir -p week1hw\n",
    "!mv ERR037900_1.first1000.fastq week1hw/"
   ],
   "metadata": {
    "collapsed": false
   }
  },
  {
   "cell_type": "code",
   "execution_count": 145,
   "outputs": [],
   "source": [
    "# The FASTQ file has 4000 reads and each read is of length 100.\n",
    "sequences, qualities = read_fastq(str(Path(\"week1hw/ERR037900_1.first1000.fastq\")))"
   ],
   "metadata": {
    "collapsed": false
   }
  },
  {
   "cell_type": "markdown",
   "source": [
    "My approach to this problem is to iterate over cycle offsets 0, 1, 2, ... and\n",
    "run a counter over each of the quality at that offset.\n",
    "\n",
    "If something goes dramatically wrong at a single cycle, the counters should indicate that."
   ],
   "metadata": {
    "collapsed": false
   }
  },
  {
   "cell_type": "code",
   "execution_count": 240,
   "outputs": [],
   "source": [
    "# Design a dictionary of counters\n",
    "# key is offset, value is counter dict for each quality key Q=-10*log(p)\n",
    "offset_counters: dict[int, dict[int, int]] = {}\n",
    "\n",
    "for offset in range(len(qualities[0])):\n",
    "    qual_at_offset: list[int] = [\n",
    "        phred_2_quality(read_qual[offset])\n",
    "        for read_qual in qualities\n",
    "    ]\n",
    "    counter = Counter(qual_at_offset)\n",
    "    offset_counters[offset] = dict(counter)\n"
   ],
   "metadata": {
    "collapsed": false
   }
  },
  {
   "cell_type": "code",
   "execution_count": 278,
   "outputs": [],
   "source": [
    "# Plot the bar/histogram of each cycle quality\n",
    "def plot_quality_against_cycle(\n",
    "    start_offset,\n",
    "    end_offset\n",
    "):\n",
    "    fig, axes = plt.subplots(1, end_offset - start_offset + 1)\n",
    "\n",
    "    for enum_index, offset in enumerate(range(start_offset, end_offset+1)):\n",
    "        ax = axes[enum_index]\n",
    "        ax.bar(\n",
    "            list(offset_counters[offset].keys()),\n",
    "            list(offset_counters[offset].values()),\n",
    "            label=\"%d\" % offset,\n",
    "            log=True\n",
    "        )\n",
    "        ax.legend()\n"
   ],
   "metadata": {
    "collapsed": false
   }
  },
  {
   "cell_type": "code",
   "execution_count": 279,
   "outputs": [
    {
     "data": {
      "text/plain": "<Figure size 640x480 with 5 Axes>",
      "image/png": "[encoded data removed]"
     },
     "metadata": {},
     "output_type": "display_data"
    }
   ],
   "source": [
    "plot_quality_against_cycle(0, 4)"
   ],
   "metadata": {
    "collapsed": false
   }
  },
  {
   "cell_type": "markdown",
   "source": [
    "The first 5 cycles are demonstrate that the vast majority of predictions\n",
    "have high confidence/quality. How does the quality change about half through the\n",
    "set? Note from above that the reads are 100 in length, so the middle is about 50.\n"
   ],
   "metadata": {
    "collapsed": false
   }
  },
  {
   "cell_type": "code",
   "execution_count": 280,
   "outputs": [
    {
     "data": {
      "text/plain": "<Figure size 640x480 with 5 Axes>",
      "image/png": "[encoded data removed]"
     },
     "metadata": {},
     "output_type": "display_data"
    }
   ],
   "source": [
    "plot_quality_against_cycle(50, 54)"
   ],
   "metadata": {
    "collapsed": false
   }
  },
  {
   "cell_type": "markdown",
   "source": [
    "Notice that the quality peak close to 40 is declining and lower values have higher counter. This is expected.\n",
    "\n",
    "Jumping to the 67-th cycle (66 offset), we see that bar plots change in behavior."
   ],
   "metadata": {
    "collapsed": false
   }
  },
  {
   "cell_type": "code",
   "execution_count": 281,
   "outputs": [
    {
     "data": {
      "text/plain": "<Figure size 640x480 with 5 Axes>",
      "image/png": "[encoded data removed]"
     },
     "metadata": {},
     "output_type": "display_data"
    }
   ],
   "source": [
    "plot_quality_against_cycle(65, 69)"
   ],
   "metadata": {
    "collapsed": false
   }
  },
  {
   "cell_type": "markdown",
   "source": [
    "Maybe a summary plot will make this clearer."
   ],
   "metadata": {
    "collapsed": false
   }
  },
  {
   "cell_type": "code",
   "execution_count": 293,
   "outputs": [
    {
     "data": {
      "text/plain": "<Figure size 640x480 with 1 Axes>",
      "image/png": "[encoded data removed]"
     },
     "metadata": {},
     "output_type": "display_data"
    }
   ],
   "source": [
    "fig, ax = plt.subplots()\n",
    "ax: plt.Axes\n",
    "offsets: list[int] = []\n",
    "max_quality: list[int] = []\n",
    "\n",
    "for offset in sorted(offset_counters.keys()):\n",
    "    counter_dict = offset_counters[offset]\n",
    "    argmax = np.argmax(counter_dict.values())\n",
    "    offsets.append(offset)\n",
    "    max_quality.append(list(counter_dict.keys())[argmax])\n",
    "\n",
    "ax.plot(\n",
    "    offsets[60:70],\n",
    "    max_quality[60:70]\n",
    ")\n",
    "\n",
    "ax.set_xlabel(\"Cycle Offset\")\n",
    "ax.set_ylabel(\"Most Recurring Quality\")\n",
    "plt.show(fig)"
   ],
   "metadata": {
    "collapsed": false
   }
  },
  {
   "cell_type": "markdown",
   "source": [
    "Indeed, the 67-th cycle has a significant quality decline"
   ],
   "metadata": {
    "collapsed": false
   }
  },
  {
   "cell_type": "code",
   "execution_count": null,
   "outputs": [],
   "source": [],
   "metadata": {
    "collapsed": false
   }
  }
 ],
 "metadata": {
  "kernelspec": {
   "display_name": "Python 3",
   "language": "python",
   "name": "python3"
  },
  "language_info": {
   "codemirror_mode": {
    "name": "ipython",
    "version": 2
   },
   "file_extension": ".py",
   "mimetype": "text/x-python",
   "name": "python",
   "nbconvert_exporter": "python",
   "pygments_lexer": "ipython2",
   "version": "2.7.6"
  }
 },
 "nbformat": 4,
 "nbformat_minor": 0
}
