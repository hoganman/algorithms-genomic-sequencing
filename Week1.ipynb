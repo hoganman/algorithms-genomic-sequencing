{
 "cells": [
  {
   "cell_type": "code",
   "execution_count": 1,
   "outputs": [],
   "source": [
    "import random\n",
    "from typing import Dict, Literal"
   ],
   "metadata": {
    "collapsed": false
   }
  },
  {
   "cell_type": "code",
   "execution_count": 5,
   "outputs": [],
   "source": [
    "# Testing two variants of the same function for computational efficiency\n",
    "DNA_BASE_PAIRS: Dict[Literal[\"A\", \"T\", \"C\", \"G\"], Literal[\"A\", \"T\", \"C\", \"G\"]] = {\n",
    "    \"A\": \"T\",\n",
    "    \"T\": \"A\",\n",
    "    \"C\": \"G\",\n",
    "    \"G\": \"C\"\n",
    "}\n",
    "\n",
    "def rev_comp_dict(\n",
    "    seq: str\n",
    ") -> str:\n",
    "    \"\"\"Returns the reverse complement of an sequence\n",
    "\n",
    "    :param seq: String sequence\n",
    "    :return: str\n",
    "    \"\"\"\n",
    "    out_seq = \"\".join([DNA_BASE_PAIRS[char] for char in reversed(seq)])\n",
    "    return out_seq\n",
    "\n",
    "\n",
    "def rev_comp_loop(\n",
    "    seq: str\n",
    ") -> str:\n",
    "    out_seq = \"\"\n",
    "    for char in reversed(seq):\n",
    "        if char == \"A\":\n",
    "            out_seq += \"T\"\n",
    "        elif char == \"T\":\n",
    "            out_seq += \"A\"\n",
    "        elif char == \"G\":\n",
    "            out_seq += \"C\"\n",
    "        else:\n",
    "            out_seq += \"G\"\n",
    "    return out_seq\n",
    "\n",
    "\n",
    "def get_complement(char: Literal[\"A\", \"T\", \"C\", \"G\"]) -> Literal[\"A\", \"T\", \"C\", \"G\"]:\n",
    "    if char == \"A\":\n",
    "        return \"T\"\n",
    "    elif char == \"T\":\n",
    "        return \"A\"\n",
    "    elif char == \"G\":\n",
    "        return \"C\"\n",
    "    else:\n",
    "        return \"G\"\n",
    "\n",
    "\n",
    "def rev_comp_fcn(\n",
    "    seq: str\n",
    ") -> str:\n",
    "    out_seq = \"\".join([get_complement(char) for char in reversed(seq)])\n",
    "    return out_seq"
   ],
   "metadata": {
    "collapsed": false
   }
  },
  {
   "cell_type": "code",
   "execution_count": 8,
   "outputs": [],
   "source": [
    "random.seed(42)\n",
    "ran_sequence = random.choices(tuple(DNA_BASE_PAIRS.keys()), k=10000)"
   ],
   "metadata": {
    "collapsed": false
   }
  },
  {
   "cell_type": "code",
   "execution_count": 9,
   "outputs": [
    {
     "name": "stdout",
     "output_type": "stream",
     "text": [
      "455 µs ± 7.75 µs per loop (mean ± std. dev. of 7 runs, 1,000 loops each)\n"
     ]
    }
   ],
   "source": [
    "timeit rev_comp_dict(ran_sequence)"
   ],
   "metadata": {
    "collapsed": false
   }
  },
  {
   "cell_type": "code",
   "execution_count": 10,
   "outputs": [
    {
     "name": "stdout",
     "output_type": "stream",
     "text": [
      "1.16 ms ± 6 µs per loop (mean ± std. dev. of 7 runs, 1,000 loops each)\n"
     ]
    }
   ],
   "source": [
    "timeit rev_comp_loop(ran_sequence)"
   ],
   "metadata": {
    "collapsed": false
   }
  },
  {
   "cell_type": "code",
   "execution_count": 11,
   "outputs": [
    {
     "name": "stdout",
     "output_type": "stream",
     "text": [
      "972 µs ± 7.08 µs per loop (mean ± std. dev. of 7 runs, 1,000 loops each)\n"
     ]
    }
   ],
   "source": [
    "timeit rev_comp_fcn(ran_sequence)"
   ],
   "metadata": {
    "collapsed": false
   }
  },
  {
   "cell_type": "code",
   "execution_count": null,
   "outputs": [],
   "source": [],
   "metadata": {
    "collapsed": false
   }
  }
 ],
 "metadata": {
  "kernelspec": {
   "display_name": "Python 3",
   "language": "python",
   "name": "python3"
  },
  "language_info": {
   "codemirror_mode": {
    "name": "ipython",
    "version": 2
   },
   "file_extension": ".py",
   "mimetype": "text/x-python",
   "name": "python",
   "nbconvert_exporter": "python",
   "pygments_lexer": "ipython2",
   "version": "2.7.6"
  }
 },
 "nbformat": 4,
 "nbformat_minor": 0
}
