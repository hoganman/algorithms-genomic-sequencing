{
 "cells": [
  {
   "cell_type": "markdown",
   "source": [
    "# Algorithms for Assembly\n",
    "\n",
    "In the 4th and final week of this course, we learn about algorithms to tackle the assembly problem. However, as the \"Third Law of Assembly\" dictates, repetitive sequences will make the tasks very difficult. We will tackle this problem building upon the previous weeks of work."
   ],
   "metadata": {
    "collapsed": false
   }
  },
  {
   "cell_type": "code",
   "execution_count": 22,
   "outputs": [],
   "source": [
    "from collections import Counter\n",
    "import itertools\n",
    "from pathlib import Path\n",
    "from typing import Optional, Sequence\n",
    "import unittest\n",
    "\n",
    "from Bio.SeqIO import parse, SeqRecord\n",
    "import numpy as np"
   ],
   "metadata": {
    "collapsed": false
   }
  },
  {
   "cell_type": "markdown",
   "source": [
    "# Homework"
   ],
   "metadata": {
    "collapsed": false
   }
  },
  {
   "cell_type": "markdown",
   "source": [
    "## Question 1\n",
    "\n",
    "In a practical, we saw the `shortest_common_superstring` function (copied below along with overlap) for finding the shortest common superstring of a set of strings.\n",
    "\n",
    "It's possible for there to be multiple different shortest common superstrings for the same set of input strings.\n",
    "\n",
    "What is the length of the shortest common superstring of the following strings?\n",
    "\n",
    "\"CCT\", \"CTT\", \"TGC\", \"TGG\", \"GAT\", \"ATT\"\n",
    "\n",
    "## Question 2\n",
    "\n",
    "How many different shortest common superstrings are there for the input strings given in the previous question?"
   ],
   "metadata": {
    "collapsed": false
   }
  },
  {
   "cell_type": "code",
   "execution_count": 2,
   "outputs": [
    {
     "name": "stderr",
     "output_type": "stream",
     "text": [
      "test_found_superstring (__main__.ShortestSuperStringTestCase) ... ok\n",
      "test_no_super_string (__main__.ShortestSuperStringTestCase) ... ok\n",
      "\n",
      "----------------------------------------------------------------------\n",
      "Ran 2 tests in 0.014s\n",
      "\n",
      "OK\n"
     ]
    }
   ],
   "source": [
    "def overlap(a: str, b: str, min_length:int=3) -> int:\n",
    "    \"\"\"Return length of the longest suffix of 'a' matching\n",
    "    a prefix of 'b' that is at least 'min_length' characters\n",
    "    long. If no such overlap exists, return 0.\n",
    "\n",
    "    Parameters\n",
    "    ----------\n",
    "    a : str\n",
    "        String to test its suffix\n",
    "    b : str\n",
    "        String to test its prefix\n",
    "    min_length : int\n",
    "        Minimum length of match\n",
    "\n",
    "    Returns\n",
    "    -------\n",
    "    int\n",
    "        Longest overlap between suffix of 'a' with prefix of 'b'. Zero (0) otherwise\n",
    "    \"\"\"\n",
    "    start = 0  # start all the way at the left\n",
    "    # MGH addition, min length must be positive\n",
    "    if min_length < 1:\n",
    "        raise ValueError(\"min_length must be positive definite\")\n",
    "    # MGH addition, edge case if len(b) < min_length, then should return 0\n",
    "    if len(b) < min_length:\n",
    "        return 0\n",
    "    while True:\n",
    "        start = a.find(b[:min_length], start)  # look for b's prefix in a\n",
    "        if start == -1:  # no more occurrences to right\n",
    "            return 0\n",
    "        # found occurrence; check for full suffix/prefix match\n",
    "        if b.startswith(a[start:]):\n",
    "            return len(a)-start\n",
    "        start += 1  # move just past previous match\n",
    "\n",
    "\n",
    "def shortest_common_superstring(ss: Sequence[str]) -> Optional[str]:\n",
    "    \"\"\" Using brute-force algorithms, find shortest common superstring\n",
    "    of given strings, which must be the same length. The complexity of\n",
    "    the method is O(N!) where N is the number of input string.\n",
    "\n",
    "    Parameters\n",
    "    ----------\n",
    "    ss : Sequence[str]\n",
    "        Sequence of strings\n",
    "\n",
    "    Returns\n",
    "    -------\n",
    "    Optional[str]\n",
    "        Shortest superstring or None if no input\n",
    "    \"\"\"\n",
    "    shortest_sup: Optional[str] = None\n",
    "    # MGH addition, min length must be positive\n",
    "    if len(ss) == 0:\n",
    "        return shortest_sup\n",
    "    for ssperm in itertools.permutations(ss):\n",
    "        sup = ssperm[0]  # superstring starts as first string\n",
    "        for i in range(len(ss)-1):\n",
    "            # overlap adjacent strings A and B in the permutation\n",
    "            olen = overlap(ssperm[i], ssperm[i+1], min_length=1)\n",
    "            # add non-overlapping portion of B to superstring\n",
    "            sup += ssperm[i+1][olen:]\n",
    "        if shortest_sup is None or len(sup) < len(shortest_sup):\n",
    "            shortest_sup = sup  # found shorter superstring\n",
    "    return shortest_sup  # return shortest\n",
    "\n",
    "\n",
    "class ShortestSuperStringTestCase(unittest.TestCase):\n",
    "\n",
    "    def test_found_superstring(self):\n",
    "        strings = [\n",
    "            \"ACGGTACGAGC\",\n",
    "            \"GAGCTTCGGA\",\n",
    "            \"GACACGG\"\n",
    "        ]\n",
    "        super_string = shortest_common_superstring(strings)\n",
    "        expected_super_string = \"GACACGGTACGAGCTTCGGA\"\n",
    "        self.assertEqual(\n",
    "            super_string,\n",
    "            expected_super_string\n",
    "        )\n",
    "\n",
    "        strings = \"ABC\", \"BCA\", \"CAB\"\n",
    "        expected_super_strings = [\"ABCAB\", \"BCABC\", \"CABCA\"]\n",
    "        for input_combo in itertools.permutations(strings, 3):\n",
    "            super_string = shortest_common_superstring(input_combo)\n",
    "            self.assertIn(\n",
    "                super_string,\n",
    "                expected_super_strings\n",
    "            )\n",
    "\n",
    "    def test_no_super_string(self):\n",
    "        empty_strings = [\"\", \"\", \"\"]\n",
    "        super_string = shortest_common_superstring(empty_strings)\n",
    "        expected_super_string = \"\"\n",
    "        self.assertEqual(\n",
    "            super_string,\n",
    "            expected_super_string\n",
    "        )\n",
    "\n",
    "        no_strings = []\n",
    "        self.assertIsNone(shortest_common_superstring(no_strings))\n",
    "\n",
    "\n",
    "res = unittest.main(argv=[''], verbosity=3, exit=False)\n",
    "assert len(res.result.failures) == 0"
   ],
   "metadata": {
    "collapsed": false
   }
  },
  {
   "cell_type": "code",
   "execution_count": 3,
   "outputs": [],
   "source": [
    "inputs = [\n",
    "    \"CCT\",\n",
    "    \"CTT\",\n",
    "    \"TGC\",\n",
    "    \"TGG\",\n",
    "    \"GAT\",\n",
    "    \"ATT\"\n",
    "]\n",
    "\n",
    "common_ss: set[str] = set()\n",
    "for permut_input in itertools.permutations(inputs, len(inputs)):\n",
    "    scs = shortest_common_superstring(list(permut_input))\n",
    "    if scs is not None:\n",
    "        common_ss.add(scs)\n"
   ],
   "metadata": {
    "collapsed": false
   }
  },
  {
   "cell_type": "code",
   "execution_count": 5,
   "outputs": [
    {
     "name": "stdout",
     "output_type": "stream",
     "text": [
      "[11, 11, 11, 11]\n",
      "There are 4 scs\n"
     ]
    }
   ],
   "source": [
    "print([len(ss) for ss in common_ss])\n",
    "print(\"There are %d scs\" % len(common_ss))"
   ],
   "metadata": {
    "collapsed": false
   }
  },
  {
   "cell_type": "markdown",
   "source": [
    "The answer to Q1 is that the shortest common superstring is __11__.\n",
    "\n",
    "The answer to Q2 is that __4__ possible combinations."
   ],
   "metadata": {
    "collapsed": false
   }
  },
  {
   "cell_type": "markdown",
   "source": [
    "## Question 3\n",
    "\n",
    "Download this FASTQ file containing synthetic sequencing reads from a mystery virus:\n",
    "\n",
    "https://d28rh4a8wq0iu5.cloudfront.net/ads1/data/ads1_week4_reads.fq\n",
    "\n",
    "All the reads are the same length (100 bases) and are exact copies of substrings from the forward strand of the virus genome.  You don't have to worry about sequencing errors, ploidy, or reads coming from the reverse strand.\n",
    "\n",
    "Assemble these reads using one of the approaches discussed, such as greedy shortest common superstring.  Since there are many reads, you might consider ways to make the algorithm faster, such as the one discussed in the programming assignment in the previous module.\n",
    "\n",
    "How many As are there in the full, assembled genome?\n",
    "\n",
    "Hint: the virus genome you are assembling is exactly 15,894 bases long"
   ],
   "metadata": {
    "collapsed": false
   }
  },
  {
   "cell_type": "code",
   "execution_count": 7,
   "outputs": [
    {
     "name": "stdout",
     "output_type": "stream",
     "text": [
      "--2022-12-06 18:20:52--  https://d28rh4a8wq0iu5.cloudfront.net/ads1/data/ads1_week4_reads.fq\r\n",
      "Resolving d28rh4a8wq0iu5.cloudfront.net (d28rh4a8wq0iu5.cloudfront.net)... 108.156.200.29, 108.156.200.104, 108.156.200.204, ...\r\n",
      "Connecting to d28rh4a8wq0iu5.cloudfront.net (d28rh4a8wq0iu5.cloudfront.net)|108.156.200.29|:443... connected.\r\n",
      "HTTP request sent, awaiting response... 200 OK\r\n",
      "Length: 395781 (387K) [video/m2ts]\r\n",
      "Saving to: ‘ads1_week4_reads.fq’\r\n",
      "\r\n",
      "ads1_week4_reads.fq 100%[===================>] 386.50K  1.69MB/s    in 0.2s    \r\n",
      "\r\n",
      "2022-12-06 18:20:53 (1.69 MB/s) - ‘ads1_week4_reads.fq’ saved [395781/395781]\r\n",
      "\r\n"
     ]
    }
   ],
   "source": [
    "!wget https://d28rh4a8wq0iu5.cloudfront.net/ads1/data/ads1_week4_reads.fq\n",
    "!mkdir -p week4hw\n",
    "!mv ads1_week4_reads.fq week4hw"
   ],
   "metadata": {
    "collapsed": false
   }
  },
  {
   "cell_type": "code",
   "execution_count": 11,
   "outputs": [],
   "source": [
    "synthetic_reads_fq = Path(\"week4hw/ads1_week4_reads.fq\")\n",
    "with synthetic_reads_fq.open(\"r\") as fh:\n",
    "    synthetic_reads: list[SeqRecord] = list(parse(fh, \"fastq\"))\n",
    "    synthetic_reads_str: list[str] = [str(read.seq) for read in synthetic_reads]"
   ],
   "metadata": {
    "collapsed": false
   }
  },
  {
   "cell_type": "markdown",
   "source": [
    "Let's see how synthetic this data is."
   ],
   "metadata": {
    "collapsed": false
   }
  },
  {
   "cell_type": "code",
   "execution_count": 20,
   "outputs": [
    {
     "name": "stdout",
     "output_type": "stream",
     "text": [
      "Counter({40: 188100})\n"
     ]
    }
   ],
   "source": [
    "quality_counter = Counter()\n",
    "for syn_read in synthetic_reads:\n",
    "    letter_anno = syn_read.letter_annotations[\"phred_quality\"]\n",
    "    quality_counter.update(letter_anno)\n",
    "\n",
    "print(quality_counter)"
   ],
   "metadata": {
    "collapsed": false
   }
  },
  {
   "cell_type": "markdown",
   "source": [
    "All the read quality has a Q-value of 40, which is a p-value of $10^{-4}$. This data is clearly fake/synthetic!"
   ],
   "metadata": {
    "collapsed": false
   }
  },
  {
   "cell_type": "markdown",
   "source": [
    "Let's implement that faster, but error-prone greedy shortest common superstring method"
   ],
   "metadata": {
    "collapsed": false
   }
  },
  {
   "cell_type": "code",
   "execution_count": 70,
   "outputs": [
    {
     "name": "stderr",
     "output_type": "stream",
     "text": [
      "test_greedy_scs (__main__.GreedyShortestCommonSuperstringTestCase) ... ok\n",
      "test_found_superstring (__main__.ShortestSuperStringTestCase) ... ok\n",
      "test_no_super_string (__main__.ShortestSuperStringTestCase) ... ok\n",
      "\n",
      "----------------------------------------------------------------------\n",
      "Ran 3 tests in 0.013s\n",
      "\n",
      "OK\n"
     ]
    }
   ],
   "source": [
    "def pick_maximal_overlap(\n",
    "    reads: Sequence[str],\n",
    "    min_length: int\n",
    ") -> tuple[str, str, int]:\n",
    "    \"\"\"Find the best pair of sequence strings with maximal suffix, prefix overlap\n",
    "\n",
    "    Parameters\n",
    "    ----------\n",
    "    reads : Sequence[str]\n",
    "        Read sequences\n",
    "    min_length\n",
    "        Minimum required overlap length\n",
    "    Returns\n",
    "    -------\n",
    "    tuple[str, str, int]\n",
    "        Suffix, prefix, overlap\n",
    "    \"\"\"\n",
    "    best_read_a, best_read_b = \"\", \"\"\n",
    "    best_overlap_len = 0\n",
    "    for read_a, read_b in itertools.permutations(list(reads), 2):\n",
    "        overlap_len = overlap(read_a, read_b, min_length)\n",
    "        if overlap_len > best_overlap_len:\n",
    "            best_read_a, best_read_b = read_a, read_b\n",
    "            best_overlap_len = overlap_len\n",
    "    return best_read_a, best_read_b, best_overlap_len\n",
    "\n",
    "\n",
    "def greedy_shortest_common_superstring(\n",
    "    reads: Sequence[str],\n",
    "    min_length: int\n",
    ") -> Optional[str]:\n",
    "    \"\"\" Using greedy algorithms, find shortest common superstring\n",
    "    of given strings, which must be the same length.\n",
    "\n",
    "    Parameters\n",
    "    ----------\n",
    "    reads : Sequence[str]\n",
    "        Sequence of strings\n",
    "    min_length : int\n",
    "        Criteria for greedy search that maximizes overlap\n",
    "\n",
    "    Returns\n",
    "    -------\n",
    "    Optional[str]\n",
    "        Shortest superstring or None if no input\n",
    "    \"\"\"\n",
    "    scs: Optional[str] = None\n",
    "    reads = list(reads)\n",
    "    if len(reads) == 0:\n",
    "        return scs\n",
    "    read_a, read_b, overlap_len = pick_maximal_overlap(reads, min_length)\n",
    "    while overlap_len > 0:\n",
    "        reads.remove(read_a)\n",
    "        reads.remove(read_b)\n",
    "        replacement = read_a + read_b[overlap_len:]\n",
    "        reads.append(replacement)\n",
    "        read_a, read_b, overlap_len = pick_maximal_overlap(reads, min_length)\n",
    "    scs = \"\".join(reads)\n",
    "    return scs\n",
    "\n",
    "\n",
    "class GreedyShortestCommonSuperstringTestCase(unittest.TestCase):\n",
    "\n",
    "    def test_greedy_scs(self):\n",
    "\n",
    "        strings = \"ABC\", \"BCA\", \"CAB\"\n",
    "        expected_super_strings = [\"ABCAB\", \"BCABC\", \"CABCA\"]\n",
    "        for input_combo in itertools.permutations(strings, 3):\n",
    "            greedy_scs = greedy_shortest_common_superstring(input_combo, 2)\n",
    "            self.assertIn(\n",
    "                greedy_scs,\n",
    "                expected_super_strings\n",
    "            )\n",
    "\n",
    "\n",
    "\n",
    "res = unittest.main(argv=[''], verbosity=3, exit=False)\n",
    "assert len(res.result.failures) == 0"
   ],
   "metadata": {
    "collapsed": false
   }
  },
  {
   "cell_type": "code",
   "execution_count": null,
   "outputs": [],
   "source": [],
   "metadata": {
    "collapsed": false
   }
  }
 ],
 "metadata": {
  "kernelspec": {
   "display_name": "Python 3",
   "language": "python",
   "name": "python3"
  },
  "language_info": {
   "codemirror_mode": {
    "name": "ipython",
    "version": 2
   },
   "file_extension": ".py",
   "mimetype": "text/x-python",
   "name": "python",
   "nbconvert_exporter": "python",
   "pygments_lexer": "ipython2",
   "version": "2.7.6"
  }
 },
 "nbformat": 4,
 "nbformat_minor": 0
}
