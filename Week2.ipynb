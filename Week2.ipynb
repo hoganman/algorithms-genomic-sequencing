{
 "cells": [
  {
   "cell_type": "markdown",
   "source": [
    "# Week 2\n",
    "\n",
    "What is not examined in this notebook is the Boyer-Moore algorithm, which is explored as stand-alone, buildable executables from C and C++. It is neat to see that Boyer-Moore is built into C++17 by default and the C implementation is not too hard either.\n",
    "\n",
    "What will be used in this notebook is an implementation from the instructors of the course. The nice feature of the module is that we can run its unit tests ourselves!"
   ],
   "metadata": {
    "collapsed": false
   }
  },
  {
   "cell_type": "code",
   "execution_count": 18,
   "outputs": [],
   "source": [
    "from pathlib import Path\n",
    "from typing import Literal, Union\n",
    "import unittest\n",
    "\n",
    "from Bio import SeqIO\n",
    "import numpy as np\n",
    "\n",
    "from src.bm_preproc import BoyerMoore\n",
    "from src.kmer_index import Index"
   ],
   "metadata": {
    "collapsed": false
   }
  },
  {
   "cell_type": "code",
   "execution_count": 3,
   "outputs": [
    {
     "name": "stdout",
     "output_type": "stream",
     "text": [
      "\u001B[1m============================= test session starts ==============================\u001B[0m\r\n",
      "platform darwin -- Python 3.10.8, pytest-7.2.0, pluggy-1.0.0 -- /Users/mhogan/Documents/algorithms-genomic-sequencing/.venv/bin/python\r\n",
      "cachedir: .pytest_cache\r\n",
      "rootdir: /Users/mhogan/Documents/algorithms-genomic-sequencing\r\n",
      "plugins: anyio-3.6.2\r\n",
      "collected 12 items                                                             \u001B[0m\r\n",
      "\r\n",
      "src/bm_preproc.py::TestBoyerMoorePreproc::test_big_l_prime_1 \u001B[32mPASSED\u001B[0m\u001B[32m      [  8%]\u001B[0m\r\n",
      "src/bm_preproc.py::TestBoyerMoorePreproc::test_big_l_prime_2 \u001B[32mPASSED\u001B[0m\u001B[32m      [ 16%]\u001B[0m\r\n",
      "src/bm_preproc.py::TestBoyerMoorePreproc::test_good_suffix_match_mismatch_1 \u001B[32mPASSED\u001B[0m\u001B[32m [ 25%]\u001B[0m\r\n",
      "src/bm_preproc.py::TestBoyerMoorePreproc::test_good_suffix_table_1 \u001B[32mPASSED\u001B[0m\u001B[32m [ 33%]\u001B[0m\r\n",
      "src/bm_preproc.py::TestBoyerMoorePreproc::test_good_suffix_table_2 \u001B[32mPASSED\u001B[0m\u001B[32m [ 41%]\u001B[0m\r\n",
      "src/bm_preproc.py::TestBoyerMoorePreproc::test_n_1 \u001B[32mPASSED\u001B[0m\u001B[32m                [ 50%]\u001B[0m\r\n",
      "src/bm_preproc.py::TestBoyerMoorePreproc::test_n_2 \u001B[32mPASSED\u001B[0m\u001B[32m                [ 58%]\u001B[0m\r\n",
      "src/bm_preproc.py::TestBoyerMoorePreproc::test_n_3 \u001B[32mPASSED\u001B[0m\u001B[32m                [ 66%]\u001B[0m\r\n",
      "src/bm_preproc.py::TestBoyerMoorePreproc::test_small_l_prime_1 \u001B[32mPASSED\u001B[0m\u001B[32m    [ 75%]\u001B[0m\r\n",
      "src/bm_preproc.py::TestBoyerMoorePreproc::test_z_1 \u001B[32mPASSED\u001B[0m\u001B[32m                [ 83%]\u001B[0m\r\n",
      "src/bm_preproc.py::TestBoyerMoorePreproc::test_z_2 \u001B[32mPASSED\u001B[0m\u001B[32m                [ 91%]\u001B[0m\r\n",
      "src/bm_preproc.py::TestBoyerMoorePreproc::test_z_3 \u001B[32mPASSED\u001B[0m\u001B[32m                [100%]\u001B[0m\r\n",
      "\r\n",
      "\u001B[32m============================== \u001B[32m\u001B[1m12 passed\u001B[0m\u001B[32m in 0.07s\u001B[0m\u001B[32m ==============================\u001B[0m\r\n"
     ]
    }
   ],
   "source": [
    "!pytest src/bm_preproc.py::TestBoyerMoorePreproc -v"
   ],
   "metadata": {
    "collapsed": false
   }
  },
  {
   "cell_type": "markdown",
   "source": [
    "Neat! All the unit tests passed meaning we do not have to worry about Python2 or Python3 version differences."
   ],
   "metadata": {
    "collapsed": false
   }
  },
  {
   "cell_type": "code",
   "execution_count": 4,
   "outputs": [
    {
     "name": "stdout",
     "output_type": "stream",
     "text": [
      "--2022-11-28 16:15:07--  http://d28rh4a8wq0iu5.cloudfront.net/ads1/data/chr1.GRCh38.excerpt.fasta\r\n",
      "Resolving d28rh4a8wq0iu5.cloudfront.net (d28rh4a8wq0iu5.cloudfront.net)... 108.156.200.29, 108.156.200.25, 108.156.200.204, ...\r\n",
      "Connecting to d28rh4a8wq0iu5.cloudfront.net (d28rh4a8wq0iu5.cloudfront.net)|108.156.200.29|:80... connected.\r\n",
      "HTTP request sent, awaiting response... 200 OK\r\n",
      "Length: 810105 (791K) [application/octet-stream]\r\n",
      "Saving to: ‘chr1.GRCh38.excerpt.fasta’\r\n",
      "\r\n",
      "chr1.GRCh38.excerpt 100%[===================>] 791.12K  --.-KB/s    in 0.1s    \r\n",
      "\r\n",
      "2022-11-28 16:15:08 (5.96 MB/s) - ‘chr1.GRCh38.excerpt.fasta’ saved [810105/810105]\r\n",
      "\r\n"
     ]
    }
   ],
   "source": [
    "!wget http://d28rh4a8wq0iu5.cloudfront.net/ads1/data/chr1.GRCh38.excerpt.fasta\n",
    "!mv chr1.GRCh38.excerpt.fasta week2hw"
   ],
   "metadata": {
    "collapsed": false
   }
  },
  {
   "cell_type": "markdown",
   "source": [
    "## Task\n",
    "\n",
    "Implement versions of the naive exact matching and Boyer-Moore algorithms that additionally count and return (a) the number of character comparisons performed and (b) the number of alignments tried. Roughly speaking, these measure how much work the two different algorithms are doing."
   ],
   "metadata": {
    "collapsed": false
   }
  },
  {
   "cell_type": "code",
   "execution_count": 5,
   "outputs": [],
   "source": [
    "def naive(\n",
    "    pat: str,\n",
    "    ref: str,\n",
    "    full:bool=False\n",
    ") -> Union[list[int], tuple[list[int], int, int]]:\n",
    "    \"\"\"Find all the alignments use naive pattern matching of a pattern\n",
    "    against a reference string\n",
    "\n",
    "    Parameters\n",
    "    ----------\n",
    "    pat : str\n",
    "        Pattern string\n",
    "    ref : str\n",
    "        Reference string\n",
    "    full : bool\n",
    "        Return full comparison (default=False)\n",
    "\n",
    "    Returns\n",
    "    -------\n",
    "    occurrences : list[int]\n",
    "        Alignment offsets\n",
    "    alignments : int\n",
    "        Number of alignment tried. Returned only if `full` is True.\n",
    "    comparisons : int\n",
    "        Number of character comparisons performed. Returned only if `full` is True\n",
    "\n",
    "    \"\"\"\n",
    "    comparisons, alignments = 0, 0\n",
    "    occurrences: list[int] = []\n",
    "    for i in range(len(ref) - len(pat) + 1):  # loop over alignments\n",
    "        alignments += 1\n",
    "        match = True\n",
    "        for j in range(len(pat)):  # loop over characters\n",
    "            is_char_match = ref[i + j] == pat[j]\n",
    "            comparisons += 1\n",
    "            if not is_char_match:\n",
    "                match = False\n",
    "                break\n",
    "        if match:\n",
    "            occurrences.append(i)  # all chars matched; record\n",
    "    if not full:\n",
    "        return occurrences\n",
    "    return occurrences, alignments, comparisons\n",
    "\n",
    "\n",
    "def boyer_moore(\n",
    "    pat: str,\n",
    "    p_bm: BoyerMoore,\n",
    "    tex: str,\n",
    "    full: bool = False\n",
    ") -> Union[list[int], tuple[list[int], int, int]]:\n",
    "    \"\"\"Run a pattern search using the Boyer-Moore algorithm\n",
    "\n",
    "    Parameters\n",
    "    ----------\n",
    "    pat : str\n",
    "        Pattern\n",
    "    p_bm : BoyerMoore\n",
    "        Preprocessor for the pattern\n",
    "    tex : str\n",
    "        Text to search\n",
    "    full : bool\n",
    "        Return full comparison (default=False)\n",
    "\n",
    "    Returns\n",
    "    -------\n",
    "    occurrences : list[int]\n",
    "        Alignment offsets\n",
    "    alignments : int\n",
    "        Number of alignment tried. Returned only if `full` is True.\n",
    "    comparisons : int\n",
    "        Number of character comparisons performed. Returned only if `full` is True\n",
    "\n",
    "    \"\"\"\n",
    "    index_i = 0\n",
    "    comparisons, alignments = 0, 0\n",
    "    occurrences: list[int] = []\n",
    "    while index_i < len(tex) - len(pat) + 1:\n",
    "        alignments += 1\n",
    "        shift = 1\n",
    "        mismatched = False\n",
    "        for index_j in range(len(pat) - 1, -1, -1):\n",
    "            is_char_match = pat[index_j] == tex[index_i + index_j]\n",
    "            comparisons += 1\n",
    "            if not is_char_match:\n",
    "                skip_bc = p_bm.bad_character_rule(index_j, tex[index_i + index_j])\n",
    "                skip_gs = p_bm.good_suffix_rule(index_j)\n",
    "                shift = max(shift, skip_bc, skip_gs)\n",
    "                mismatched = True\n",
    "                break\n",
    "        if not mismatched:\n",
    "            occurrences.append(index_i)\n",
    "            skip_gs = p_bm.match_skip()\n",
    "            shift = max(shift, skip_gs)\n",
    "        index_i += shift\n",
    "    if not full:\n",
    "        return occurrences\n",
    "    return occurrences, alignments, comparisons\n"
   ],
   "metadata": {
    "collapsed": false
   }
  },
  {
   "cell_type": "code",
   "execution_count": 6,
   "outputs": [
    {
     "name": "stderr",
     "output_type": "stream",
     "text": [
      "test_short_patterns (__main__.BoyerMooreWithCountsTestCase) ... ok\n",
      "test_short_patterns (__main__.NaiveWithCountsTestCase) ... ok\n",
      "\n",
      "----------------------------------------------------------------------\n",
      "Ran 2 tests in 0.005s\n",
      "\n",
      "OK\n"
     ]
    }
   ],
   "source": [
    "class NaiveWithCountsTestCase(unittest.TestCase):\n",
    "    \"\"\"Test the occurrences, alignments, and character comparisons of the Naive algorithm\"\"\"\n",
    "\n",
    "    def test_short_patterns(self):\n",
    "        p_1 = 'word'\n",
    "        t_1 = 'there would have been a time for such a word'\n",
    "        naive_results_1 = naive(p_1, t_1, full=True)\n",
    "        self.assertListEqual(\n",
    "            list(naive_results_1),\n",
    "            [[40], 41, 46]\n",
    "        )\n",
    "\n",
    "        p_2 = 'needle'\n",
    "        t_2 = 'needle need noodle needle'\n",
    "        naive_results_2 = naive(p_2, t_2, full=True)\n",
    "        self.assertListEqual(\n",
    "            list(naive_results_2),\n",
    "            [[0, 19], 20, 35]\n",
    "        )\n",
    "\n",
    "\n",
    "class BoyerMooreWithCountsTestCase(unittest.TestCase):\n",
    "    \"\"\"Test the occurrences, alignments, and character comparisons of the Boyer-Moore algorithm\"\"\"\n",
    "\n",
    "    def test_short_patterns(self):\n",
    "        lowercase_alphabet = (\n",
    "            \"\".join([chr(index) for index in range(ord(\"a\"), ord(\"z\")+1)])  # letters\n",
    "            + \" \"  # empty space\n",
    "        )\n",
    "\n",
    "        p_1 = \"word\"\n",
    "        t_1 = \"there would have been a time for such a word\"\n",
    "        p_bm_1 = BoyerMoore(p_1, lowercase_alphabet)\n",
    "        bm_results_1 = boyer_moore(p_1, p_bm_1, t_1, full=True)\n",
    "        self.assertListEqual(\n",
    "            list(bm_results_1),\n",
    "            [[40], 12, 15]\n",
    "        )\n",
    "\n",
    "        p_2 = \"needle\"\n",
    "        t_2 = \"needle need noodle needle\"\n",
    "        p_bm_2 = BoyerMoore(p_2, lowercase_alphabet)\n",
    "        bm_results_2 = boyer_moore(p_2, p_bm_2, t_2, full=True)\n",
    "        self.assertListEqual(\n",
    "            list(bm_results_2),\n",
    "            [[0, 19], 5, 18]\n",
    "        )\n",
    "\n",
    "\n",
    "res = unittest.main(argv=[''], verbosity=3, exit=False)\n",
    "assert len(res.result.failures) == 0"
   ],
   "metadata": {
    "collapsed": false
   }
  },
  {
   "cell_type": "markdown",
   "source": [
    "Let's now read in the FASTA file with the human Alu sequences"
   ],
   "metadata": {
    "collapsed": false
   }
  },
  {
   "cell_type": "code",
   "execution_count": 7,
   "outputs": [],
   "source": [
    "with Path(\"week2hw/chr1.GRCh38.excerpt.fasta\").open(mode=\"r\") as fh:\n",
    "    alu_sequences: SeqIO.SeqRecord = list(SeqIO.parse(fh, \"fasta\"))[0]"
   ],
   "metadata": {
    "collapsed": false
   }
  },
  {
   "cell_type": "markdown",
   "source": [
    "# Quiz"
   ],
   "metadata": {
    "collapsed": false
   }
  },
  {
   "cell_type": "markdown",
   "source": [
    "## Q1\n",
    "How many alignments does the naive exact matching algorithm try when matching the string\n",
    "`GGCGCGGTGGCTCACGCCTGTAATCCCAGCACTTTGGGAGGCCGAGG`\n",
    "(derived from human Alu sequences) to the excerpt of human chromosome 1?  (Don't consider reverse complements.)\n"
   ],
   "metadata": {
    "collapsed": false
   }
  },
  {
   "cell_type": "markdown",
   "source": [
    "First verify that the sequence loaded into memory is from humans (Homo sapiens) and is chromosome 1"
   ],
   "metadata": {
    "collapsed": false
   }
  },
  {
   "cell_type": "code",
   "execution_count": 8,
   "outputs": [
    {
     "name": "stdout",
     "output_type": "stream",
     "text": [
      "ID: CM000663.2_excerpt\n",
      "Name: CM000663.2_excerpt\n",
      "Description: CM000663.2_excerpt EXCERPT FROM CM000663.2 Homo sapiens chromosome 1, GRCh38 reference primary assembly\n",
      "Number of features: 0\n",
      "Seq('TTGAATGCTGAAATCAGCAGGTAATATATGATAATAGAGAAAGCTATCCCGAAG...AGG')\n"
     ]
    }
   ],
   "source": [
    "print(str(alu_sequences))"
   ],
   "metadata": {
    "collapsed": false
   }
  },
  {
   "cell_type": "markdown",
   "source": [
    "Now run the query"
   ],
   "metadata": {
    "collapsed": false
   }
  },
  {
   "cell_type": "code",
   "execution_count": 9,
   "outputs": [
    {
     "name": "stdout",
     "output_type": "stream",
     "text": [
      "Number of alignments: 799954\n"
     ]
    }
   ],
   "source": [
    "p_1 = \"GGCGCGGTGGCTCACGCCTGTAATCCCAGCACTTTGGGAGGCCGAGG\"\n",
    "_, align_1, _ = naive(p_1, str(alu_sequences.seq), full=True)\n",
    "print(f\"Number of alignments: {align_1}\")"
   ],
   "metadata": {
    "collapsed": false
   }
  },
  {
   "cell_type": "markdown",
   "source": [
    "## Q2:\n",
    "How many character comparisons does the naive exact matching algorithm try when matching the string\n",
    "`GGCGCGGTGGCTCACGCCTGTAATCCCAGCACTTTGGGAGGCCGAGG`\n",
    "(derived from human Alu sequences) to the excerpt of human chromosome 1?  (Don't consider reverse complements.)"
   ],
   "metadata": {
    "collapsed": false
   }
  },
  {
   "cell_type": "code",
   "execution_count": 10,
   "outputs": [
    {
     "name": "stdout",
     "output_type": "stream",
     "text": [
      "Number of comparisons: 984143\n"
     ]
    }
   ],
   "source": [
    "p_2 = \"GGCGCGGTGGCTCACGCCTGTAATCCCAGCACTTTGGGAGGCCGAGG\"\n",
    "_, _, comp_2 = naive(p_2, str(alu_sequences.seq), full=True)\n",
    "print(f\"Number of comparisons: {comp_2}\")"
   ],
   "metadata": {
    "collapsed": false
   }
  },
  {
   "cell_type": "markdown",
   "source": [
    "## Q3:\n",
    "How many alignments does Boyer-Moore try when matching the string\n",
    "`GGCGCGGTGGCTCACGCCTGTAATCCCAGCACTTTGGGAGGCCGAGG`\n",
    "(derived from human Alu sequences) to the excerpt of human chromosome 1?  (Don't consider reverse complements.)"
   ],
   "metadata": {
    "collapsed": false
   }
  },
  {
   "cell_type": "code",
   "execution_count": 11,
   "outputs": [
    {
     "name": "stdout",
     "output_type": "stream",
     "text": [
      "Number of alignments: 127974\n"
     ]
    }
   ],
   "source": [
    "p_3 = \"GGCGCGGTGGCTCACGCCTGTAATCCCAGCACTTTGGGAGGCCGAGG\"\n",
    "bm_indexer_3 = BoyerMoore(p_3)\n",
    "_, align_3, _ = boyer_moore(p_3, bm_indexer_3, str(alu_sequences.seq), full=True)\n",
    "print(f\"Number of alignments: {align_3}\")"
   ],
   "metadata": {
    "collapsed": false
   }
  },
  {
   "cell_type": "markdown",
   "source": [
    "## Q4: Index-assisted approximate matching.\n",
    "\n",
    "In practicals, we built a Python class called Index\n",
    "\n",
    "implementing an ordered-list version of the k-mer index.  The Index class is copied below\n",
    "\n",
    "```python\n",
    "class Index(object):\n",
    "    def __init__(self, t, k):\n",
    "        ''' Create index from all substrings of size 'length' '''\n",
    "        self.k = k  # k-mer length (k)\n",
    "        self.index = []\n",
    "        for i in range(len(t) - k + 1):  # for each k-mer\n",
    "            self.index.append((t[i:i+k], i))  # add (k-mer, offset) pair\n",
    "        self.index.sort()  # alphabetize by k-mer\n",
    "\n",
    "    def query(self, p):\n",
    "        ''' Return index hits for first k-mer of P '''\n",
    "        kmer = p[:self.k]  # query with first k-mer\n",
    "        i = bisect.bisect_left(self.index, (kmer, -1))  # binary search\n",
    "        hits = []\n",
    "        while i < len(self.index):  # collect matching index entries\n",
    "            if self.index[i][0] != kmer:\n",
    "                break\n",
    "            hits.append(self.index[i][1])\n",
    "            i += 1\n",
    "        return hits\n",
    "```\n",
    "\n",
    "We also implemented the pigeonhole principle using Boyer-Moore as our exact matching algorithm.\n",
    "\n",
    "Implement the pigeonhole principle using Index to find exact matches for the partitions. Assume P always has length 24, and that we are looking for approximate matches with up to 2 mismatches (substitutions). We will use an 8-mer index.\n",
    "\n",
    "Download the Python module for building a k-mer index.\n",
    "\n",
    "https://d28rh4a8wq0iu5.cloudfront.net/ads1/code/kmer_index.py\n",
    "\n",
    "Write a function that, given a length-24 pattern P and given an Index object built on 8-mers, finds all approximate occurrences of P within T with up to 2 mismatches. Insertions and deletions are not allowed. Don't consider any reverse complements.\n",
    "\n",
    "How many times does the string GGCGCGGTGGCTCACGCCTGTAAT, which is derived from a human Alu sequence, occur with up to 2 substitutions in the excerpt of human chromosome 1?  (Don't consider reverse complements here.)\n",
    "\n",
    "Hint 1: Multiple index hits might direct you to the same match multiple times, but be careful not to count a match more than once.\n",
    "\n",
    "Hint 2: You can check your work by comparing the output of your new function to that of the naive_2mm function implemented in the previous module.\n"
   ],
   "metadata": {
    "collapsed": false
   }
  },
  {
   "cell_type": "code",
   "execution_count": 21,
   "outputs": [],
   "source": [
    "def exceeds_mismatches(\n",
    "    pat: str,\n",
    "    tex: str,\n",
    "    mat: int,\n",
    "    start: int,\n",
    "    end: int,\n",
    "    mm: int\n",
    ") -> bool:\n",
    "    \"\"\"Verify that the number of mismatches of a hit index of a pattern in text\n",
    "     does not exceed a fixed value\n",
    "\n",
    "    Parameters\n",
    "    ----------\n",
    "    pat : str\n",
    "        Pattern\n",
    "    tex : str\n",
    "        Text\n",
    "    mat : int\n",
    "        Matching index\n",
    "    start : int\n",
    "        Start index of text\n",
    "    end : int\n",
    "        End index of text\n",
    "    mm : int\n",
    "        Number of mismatches allowed\n",
    "\n",
    "    Returns\n",
    "    -------\n",
    "    bool\n",
    "        False if the number of mismatches is less than input `mm`. True otherwise\n",
    "    \"\"\"\n",
    "    mat_start_index = mat - start\n",
    "    if (\n",
    "            mat < start\n",
    "            or mat_start_index + len(pat) > len(tex)\n",
    "    ):\n",
    "        return True\n",
    "\n",
    "    mismatches = 0\n",
    "\n",
    "    # Left of text\n",
    "    for index_j in range(0, start):\n",
    "        if pat[index_j] != tex[mat_start_index + index_j]:\n",
    "            mismatches += 1\n",
    "            if mismatches > mm:\n",
    "                break\n",
    "\n",
    "    # Right of pattern\n",
    "    for index_j in range(end, len(pat)):\n",
    "        if pat[index_j] != tex[mat_start_index + index_j]:\n",
    "            mismatches += 1\n",
    "            if mismatches > mm:\n",
    "                break\n",
    "\n",
    "    if mismatches <= mm:\n",
    "        return False\n",
    "    return True\n",
    "\n",
    "\n",
    "def approximate_match_boyermoore(\n",
    "    pat: str,\n",
    "    tex: str,\n",
    "    mm: int,\n",
    "    alphabet: str = \"ACGT\"\n",
    ") -> list[int]:\n",
    "    \"\"\"Return the offset occurrences of a pattern against a text using the\n",
    "     Boyer-Moore algorithm allowing for a fixed number of mismatches\n",
    "\n",
    "    Parameters\n",
    "    ----------\n",
    "    pat : str\n",
    "        Pattern\n",
    "    tex : str\n",
    "        Text\n",
    "    mm : int\n",
    "        Number of mismatches allowed\n",
    "    alphabet : str\n",
    "        Alphabet of string for processing\n",
    "\n",
    "    Returns\n",
    "    -------\n",
    "    list[int]\n",
    "        List of occurrences\n",
    "    \"\"\"\n",
    "    segment_len = int(round(len(pat) / (mm + 1)))\n",
    "    all_matches: set[int] = set()\n",
    "    for index_i in range(mm + 1):\n",
    "        start_index = index_i * segment_len\n",
    "        end_index = min((index_i + 1) * segment_len, len(pat))\n",
    "        bm_pat = pat[start_index: end_index]\n",
    "        bm_indexer = BoyerMoore(bm_pat, alphabet)\n",
    "        bm_matches = boyer_moore(bm_pat, bm_indexer, tex)\n",
    "        mat: int\n",
    "        for mat in bm_matches:\n",
    "            if not exceeds_mismatches(pat, tex, mat, start_index, end_index, mm):\n",
    "                mat_start_index = mat - start_index\n",
    "                all_matches.add(mat_start_index)\n",
    "    return list(all_matches)\n",
    "\n",
    "\n",
    "def approximate_match_kmer(\n",
    "    pat: str,\n",
    "    tex: str,\n",
    "    mm: int\n",
    ") -> list[int]:\n",
    "    \"\"\"Return the offset occurrences of a pattern against a text using the\n",
    "     pigeon-hole principle with k-mers allowing for a fixed number of mismatches.\n",
    "     The number of k-mers is one more than the number of mismatches allowed\n",
    "\n",
    "    Parameters\n",
    "    ----------\n",
    "    pat : str\n",
    "        Pattern\n",
    "    tex : str\n",
    "        Text\n",
    "    mm : int\n",
    "        Number of mismatches allowed\n",
    "\n",
    "    Returns\n",
    "    -------\n",
    "    list[int]\n",
    "        List of occurrences\n",
    "    \"\"\"\n",
    "    kmer_len = int(round(len(pat) / (mm + 1)))\n",
    "    kmer_indexer = Index(tex, kmer_len)\n",
    "    all_matches: set[int] = set()\n",
    "    for index_i in range(mm + 1):\n",
    "        start_index = index_i * kmer_len\n",
    "        end_index = min((index_i + 1) * kmer_len, len(pat))\n",
    "        kmer_pat = pat[start_index: end_index]\n",
    "        kmer_matches = kmer_indexer.query(kmer_pat)\n",
    "        # print(\"Number of k-mer \")\n",
    "        mat: int\n",
    "        for mat in kmer_matches:\n",
    "            if not exceeds_mismatches(pat, tex, mat, start_index, end_index, mm):\n",
    "                mat_start_index = mat - start_index\n",
    "                all_matches.add(mat_start_index)\n",
    "    return list(all_matches)\n",
    "\n",
    "\n",
    "def approximate_match(\n",
    "    pat: str,\n",
    "    tex: str,\n",
    "    mm: int,\n",
    "    method: Literal[\"BoyerMoore\", \"Index\"],\n",
    "    alphabet: str = \"ACGT\",\n",
    ") -> list[int]:\n",
    "    \"\"\"Return the offset occurrences of a pattern against a text using\n",
    "    either the Boyer-Moore algorithm or k-mer indexing.\n",
    "\n",
    "    Parameters\n",
    "    ----------\n",
    "    pat : str\n",
    "        Pattern\n",
    "    tex : str\n",
    "        Text\n",
    "    mm : int\n",
    "        Number of mismatches allowed\n",
    "    method : Literal[\"BoyerMoore\", \"Index\"]\n",
    "        Method to use\n",
    "    alphabet : str\n",
    "        Alphabet, required when the method is Boyer-Moore\n",
    "\n",
    "    Returns\n",
    "    -------\n",
    "    list[int]\n",
    "        List of occurrences\n",
    "    \"\"\"\n",
    "    if method == \"BoyerMoore\":\n",
    "        return approximate_match_boyermoore(pat, tex, mm, alphabet)\n",
    "    if method == \"Index\":\n",
    "        return approximate_match_kmer(pat, tex, mm)\n",
    "    raise ValueError(f\"Method {method} is not supported\")\n"
   ],
   "metadata": {
    "collapsed": false
   }
  },
  {
   "cell_type": "code",
   "execution_count": 22,
   "outputs": [
    {
     "name": "stderr",
     "output_type": "stream",
     "text": [
      "test_short_patterns (__main__.ApproximateMatchBoyerMooreTestCase) ... ok\n",
      "test_short_patterns (__main__.ApproximateMatchKmerTestCase) ... ok\n",
      "test_short_patterns (__main__.BoyerMooreWithCountsTestCase) ... ok\n",
      "test_short_patterns (__main__.NaiveWithCountsTestCase) ... ok\n",
      "\n",
      "----------------------------------------------------------------------\n",
      "Ran 4 tests in 0.043s\n",
      "\n",
      "OK\n"
     ]
    }
   ],
   "source": [
    "class ApproximateMatchBoyerMooreTestCase(unittest.TestCase):\n",
    "\n",
    "    def test_short_patterns(self):\n",
    "        pat = \"AACTTG\"\n",
    "        tex = \"CACTTAATTTG\"\n",
    "        bm_1 = approximate_match(pat, tex, 1, \"BoyerMoore\")\n",
    "        self.assertListEqual(bm_1, [5])\n",
    "\n",
    "        bm_2 = approximate_match(pat, tex, 2, \"BoyerMoore\")\n",
    "        self.assertListEqual(bm_2, [0, 5])\n",
    "\n",
    "\n",
    "class ApproximateMatchKmerTestCase(unittest.TestCase):\n",
    "\n",
    "    def test_short_patterns(self):\n",
    "        pat = \"AACTTG\"\n",
    "        tex = \"CACTTAATTTG\"\n",
    "        bm_1 = approximate_match(pat, tex, 1, \"Index\")\n",
    "        self.assertListEqual(bm_1, [5])\n",
    "\n",
    "        bm_2 = approximate_match(pat, tex, 2, \"Index\")\n",
    "        self.assertListEqual(bm_2, [0, 5])\n",
    "\n",
    "\n",
    "res = unittest.main(argv=[''], verbosity=3, exit=False)\n",
    "assert len(res.result.failures) == 0"
   ],
   "metadata": {
    "collapsed": false
   }
  },
  {
   "cell_type": "markdown",
   "source": [
    "Now I can try to finally answer the question\n",
    "\n",
    "```\n",
    "How many times does the string GGCGCGGTGGCTCACGCCTGTAAT,\n",
    "which is derived from a human Alu sequence, occur with\n",
    "up to 2 substitutions in the excerpt of human chromosome\n",
    "1?  (Don't consider reverse complements here.)\n",
    "```"
   ],
   "metadata": {
    "collapsed": false
   }
  },
  {
   "cell_type": "code",
   "execution_count": 24,
   "outputs": [
    {
     "name": "stdout",
     "output_type": "stream",
     "text": [
      "Number of occurrences: 19\n"
     ]
    }
   ],
   "source": [
    "p_4 = \"GGCGCGGTGGCTCACGCCTGTAAT\"\n",
    "occurrences_4 = approximate_match(\n",
    "    p_4, str(alu_sequences.seq), 2, \"Index\"\n",
    ")\n",
    "print(f\"Number of occurrences: {len(occurrences_4)}\")"
   ],
   "metadata": {
    "collapsed": false
   }
  },
  {
   "cell_type": "code",
   "execution_count": null,
   "outputs": [],
   "source": [],
   "metadata": {
    "collapsed": false
   }
  }
 ],
 "metadata": {
  "kernelspec": {
   "display_name": "Python 3",
   "language": "python",
   "name": "python3"
  },
  "language_info": {
   "codemirror_mode": {
    "name": "ipython",
    "version": 2
   },
   "file_extension": ".py",
   "mimetype": "text/x-python",
   "name": "python",
   "nbconvert_exporter": "python",
   "pygments_lexer": "ipython2",
   "version": "2.7.6"
  }
 },
 "nbformat": 4,
 "nbformat_minor": 0
}
