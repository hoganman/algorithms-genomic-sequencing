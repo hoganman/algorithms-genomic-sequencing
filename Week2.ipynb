{
 "cells": [
  {
   "cell_type": "markdown",
   "source": [
    "# Week 2\n",
    "\n",
    "What is not examined in this notebook is the Boyer-Moore algorithm, which is explored as stand-alone, buildable executables from C and C++. It is neat to see that Boyer-Moore is built into C++17 by default and the C implementation is not too hard either.\n",
    "\n",
    "What will be used in this notebook is an implementation from the instructors of the course. The nice feature of the module is that we can run its unit tests ourselves!"
   ],
   "metadata": {
    "collapsed": false
   }
  },
  {
   "cell_type": "code",
   "execution_count": 27,
   "outputs": [],
   "source": [
    "from pathlib import Path\n",
    "import unittest\n",
    "\n",
    "from Bio import SeqIO\n",
    "\n",
    "from src.bm_preproc import BoyerMoore"
   ],
   "metadata": {
    "collapsed": false
   }
  },
  {
   "cell_type": "code",
   "execution_count": null,
   "outputs": [],
   "source": [
    "# This is a part of the assignment. The BoyerMoore object preprocesses the pattern\n"
   ],
   "metadata": {
    "collapsed": false
   }
  },
  {
   "cell_type": "code",
   "execution_count": 81,
   "outputs": [
    {
     "name": "stdout",
     "output_type": "stream",
     "text": [
      "\u001B[1m============================= test session starts ==============================\u001B[0m\r\n",
      "platform darwin -- Python 3.10.8, pytest-7.2.0, pluggy-1.0.0 -- /Users/mhogan/Documents/algorithms-genomic-sequencing/.venv/bin/python\r\n",
      "cachedir: .pytest_cache\r\n",
      "rootdir: /Users/mhogan/Documents/algorithms-genomic-sequencing\r\n",
      "plugins: anyio-3.6.2\r\n",
      "collected 12 items                                                             \u001B[0m\r\n",
      "\r\n",
      "src/bm_preproc.py::TestBoyerMoorePreproc::test_big_l_prime_1 \u001B[32mPASSED\u001B[0m\u001B[32m      [  8%]\u001B[0m\r\n",
      "src/bm_preproc.py::TestBoyerMoorePreproc::test_big_l_prime_2 \u001B[32mPASSED\u001B[0m\u001B[32m      [ 16%]\u001B[0m\r\n",
      "src/bm_preproc.py::TestBoyerMoorePreproc::test_good_suffix_match_mismatch_1 \u001B[32mPASSED\u001B[0m\u001B[32m [ 25%]\u001B[0m\r\n",
      "src/bm_preproc.py::TestBoyerMoorePreproc::test_good_suffix_table_1 \u001B[32mPASSED\u001B[0m\u001B[32m [ 33%]\u001B[0m\r\n",
      "src/bm_preproc.py::TestBoyerMoorePreproc::test_good_suffix_table_2 \u001B[32mPASSED\u001B[0m\u001B[32m [ 41%]\u001B[0m\r\n",
      "src/bm_preproc.py::TestBoyerMoorePreproc::test_n_1 \u001B[32mPASSED\u001B[0m\u001B[32m                [ 50%]\u001B[0m\r\n",
      "src/bm_preproc.py::TestBoyerMoorePreproc::test_n_2 \u001B[32mPASSED\u001B[0m\u001B[32m                [ 58%]\u001B[0m\r\n",
      "src/bm_preproc.py::TestBoyerMoorePreproc::test_n_3 \u001B[32mPASSED\u001B[0m\u001B[32m                [ 66%]\u001B[0m\r\n",
      "src/bm_preproc.py::TestBoyerMoorePreproc::test_small_l_prime_1 \u001B[32mPASSED\u001B[0m\u001B[32m    [ 75%]\u001B[0m\r\n",
      "src/bm_preproc.py::TestBoyerMoorePreproc::test_z_1 \u001B[32mPASSED\u001B[0m\u001B[32m                [ 83%]\u001B[0m\r\n",
      "src/bm_preproc.py::TestBoyerMoorePreproc::test_z_2 \u001B[32mPASSED\u001B[0m\u001B[32m                [ 91%]\u001B[0m\r\n",
      "src/bm_preproc.py::TestBoyerMoorePreproc::test_z_3 \u001B[32mPASSED\u001B[0m\u001B[32m                [100%]\u001B[0m\r\n",
      "\r\n",
      "\u001B[32m============================== \u001B[32m\u001B[1m12 passed\u001B[0m\u001B[32m in 0.11s\u001B[0m\u001B[32m ==============================\u001B[0m\r\n"
     ]
    }
   ],
   "source": [
    "!pytest src/bm_preproc.py::TestBoyerMoorePreproc -v"
   ],
   "metadata": {
    "collapsed": false
   }
  },
  {
   "cell_type": "markdown",
   "source": [
    "Neat! All the unit tests passed meaning we do not have to worry about Python2 or Python3 version differences."
   ],
   "metadata": {
    "collapsed": false
   }
  },
  {
   "cell_type": "code",
   "execution_count": 1,
   "outputs": [
    {
     "name": "stdout",
     "output_type": "stream",
     "text": [
      "--2022-11-28 14:04:37--  http://d28rh4a8wq0iu5.cloudfront.net/ads1/data/chr1.GRCh38.excerpt.fasta\r\n",
      "Resolving d28rh4a8wq0iu5.cloudfront.net (d28rh4a8wq0iu5.cloudfront.net)... 108.156.200.25, 108.156.200.104, 108.156.200.204, ...\r\n",
      "Connecting to d28rh4a8wq0iu5.cloudfront.net (d28rh4a8wq0iu5.cloudfront.net)|108.156.200.25|:80... connected.\r\n",
      "HTTP request sent, awaiting response... 200 OK\r\n",
      "Length: 810105 (791K) [application/octet-stream]\r\n",
      "Saving to: ‘chr1.GRCh38.excerpt.fasta’\r\n",
      "\r\n",
      "chr1.GRCh38.excerpt 100%[===================>] 791.12K  --.-KB/s    in 0.06s   \r\n",
      "\r\n",
      "2022-11-28 14:04:38 (12.9 MB/s) - ‘chr1.GRCh38.excerpt.fasta’ saved [810105/810105]\r\n",
      "\r\n"
     ]
    }
   ],
   "source": [
    "!wget http://d28rh4a8wq0iu5.cloudfront.net/ads1/data/chr1.GRCh38.excerpt.fasta\n",
    "!mv chr1.GRCh38.excerpt.fasta week2hw"
   ],
   "metadata": {
    "collapsed": false
   }
  },
  {
   "cell_type": "markdown",
   "source": [
    "## Task\n",
    "\n",
    "Implement versions of the naive exact matching and Boyer-Moore algorithms that additionally count and return (a) the number of character comparisons performed and (b) the number of alignments tried. Roughly speaking, these measure how much work the two different algorithms are doing."
   ],
   "metadata": {
    "collapsed": false
   }
  },
  {
   "cell_type": "code",
   "execution_count": 25,
   "outputs": [],
   "source": [
    "def naive(\n",
    "    pat: str,\n",
    "    ref: str,\n",
    "    full:bool=False\n",
    "):\n",
    "    \"\"\"Find all the alignments use naive pattern matching of a pattern\n",
    "    against a reference string\n",
    "\n",
    "    Parameters\n",
    "    ----------\n",
    "    pat : str\n",
    "        Pattern string\n",
    "    ref : str\n",
    "        Reference string\n",
    "    full : bool\n",
    "        Return full comparison (default=False)\n",
    "\n",
    "    Returns\n",
    "    -------\n",
    "    occurrences : list[int]\n",
    "        Alignment offsets\n",
    "    alignments : int\n",
    "        Number of alignment tried. Returned only if `full` is True.\n",
    "    comparisons : int\n",
    "        Number of character comparisons performed. Returned only if `full` is True\n",
    "\n",
    "    \"\"\"\n",
    "    comparisons, alignments = 0, 0\n",
    "    occurrences: list[int] = []\n",
    "    for i in range(len(ref) - len(pat) + 1):  # loop over alignments\n",
    "        alignments += 1\n",
    "        match = True\n",
    "        for j in range(len(pat)):  # loop over characters\n",
    "            is_char_match = ref[i + j] == pat[j]\n",
    "            comparisons += 1\n",
    "            if not is_char_match:\n",
    "                match = False\n",
    "                break\n",
    "        if match:\n",
    "            occurrences.append(i)  # all chars matched; record\n",
    "    if not full:\n",
    "        return occurrences\n",
    "    return occurrences, alignments, comparisons\n",
    "\n",
    "\n",
    "def boyer_moore(\n",
    "    pat: str,\n",
    "    p_bm: BoyerMoore,\n",
    "    tex: str,\n",
    "    full: bool = False\n",
    "):\n",
    "    \"\"\"Run a pattern search using the Boyer-Moore algorithm\n",
    "\n",
    "    Parameters\n",
    "    ----------\n",
    "    pat : str\n",
    "        Pattern\n",
    "    p_bm : BoyerMoore\n",
    "        Preprocessor for the pattern\n",
    "    tex : str\n",
    "        Text to search\n",
    "    full : bool\n",
    "        Return full comparison (default=False)\n",
    "\n",
    "    Returns\n",
    "    -------\n",
    "    occurrences : list[int]\n",
    "        Alignment offsets\n",
    "    alignments : int\n",
    "        Number of alignment tried. Returned only if `full` is True.\n",
    "    comparisons : int\n",
    "        Number of character comparisons performed. Returned only if `full` is True\n",
    "\n",
    "    \"\"\"\n",
    "    index_i = 0\n",
    "    comparisons, alignments = 0, 0\n",
    "    occurrences: list[int] = []\n",
    "    while index_i < len(tex) - len(pat) + 1:\n",
    "        alignments += 1\n",
    "        shift = 1\n",
    "        mismatched = False\n",
    "        for index_j in range(len(pat) - 1, -1, -1):\n",
    "            is_char_match = pat[index_j] == tex[index_i + index_j]\n",
    "            comparisons += 1\n",
    "            if not is_char_match:\n",
    "                skip_bc = p_bm.bad_character_rule(index_j, tex[index_i + index_j])\n",
    "                skip_gs = p_bm.good_suffix_rule(index_j)\n",
    "                shift = max(shift, skip_bc, skip_gs)\n",
    "                mismatched = True\n",
    "                break\n",
    "        if not mismatched:\n",
    "            occurrences.append(index_i)\n",
    "            skip_gs = p_bm.match_skip()\n",
    "            shift = max(shift, skip_gs)\n",
    "        index_i += shift\n",
    "    if not full:\n",
    "        return occurrences\n",
    "    return occurrences, alignments, comparisons\n"
   ],
   "metadata": {
    "collapsed": false
   }
  },
  {
   "cell_type": "code",
   "execution_count": 26,
   "outputs": [
    {
     "name": "stderr",
     "output_type": "stream",
     "text": [
      "test_short_patterns (__main__.BoyerMooreWithCountsTestCase) ... ok\n",
      "test_short_patterns (__main__.NaiveWithCountsTestCase) ... ok\n",
      "\n",
      "----------------------------------------------------------------------\n",
      "Ran 2 tests in 0.017s\n",
      "\n",
      "OK\n"
     ]
    }
   ],
   "source": [
    "class NaiveWithCountsTestCase(unittest.TestCase):\n",
    "    \"\"\"Test the occurrences, alignments, and character comparisons of the Naive algorithm\"\"\"\n",
    "\n",
    "    def test_short_patterns(self):\n",
    "        p_1 = 'word'\n",
    "        t_1 = 'there would have been a time for such a word'\n",
    "        naive_results_1 = naive(p_1, t_1, full=True)\n",
    "        self.assertListEqual(\n",
    "            list(naive_results_1),\n",
    "            [[40], 41, 46]\n",
    "        )\n",
    "\n",
    "        p_2 = 'needle'\n",
    "        t_2 = 'needle need noodle needle'\n",
    "        naive_results_2 = naive(p_2, t_2, full=True)\n",
    "        self.assertListEqual(\n",
    "            list(naive_results_2),\n",
    "            [[0, 19], 20, 35]\n",
    "        )\n",
    "\n",
    "\n",
    "class BoyerMooreWithCountsTestCase(unittest.TestCase):\n",
    "    \"\"\"Test the occurrences, alignments, and character comparisons of the Boyer-Moore algorithm\"\"\"\n",
    "\n",
    "    def test_short_patterns(self):\n",
    "        lowercase_alphabet = (\n",
    "            \"\".join([chr(index) for index in range(ord(\"a\"), ord(\"z\")+1)])  # letters\n",
    "            + \" \"  # empty space\n",
    "        )\n",
    "\n",
    "        p_1 = \"word\"\n",
    "        t_1 = \"there would have been a time for such a word\"\n",
    "        p_bm_1 = BoyerMoore(p_1, lowercase_alphabet)\n",
    "        bm_results_1 = boyer_moore(p_1, p_bm_1, t_1, full=True)\n",
    "        self.assertListEqual(\n",
    "            list(bm_results_1),\n",
    "            [[40], 12, 15]\n",
    "        )\n",
    "\n",
    "        p_2 = \"needle\"\n",
    "        t_2 = \"needle need noodle needle\"\n",
    "        p_bm_2 = BoyerMoore(p_2, lowercase_alphabet)\n",
    "        bm_results_2 = boyer_moore(p_2, p_bm_2, t_2, full=True)\n",
    "        self.assertListEqual(\n",
    "            list(bm_results_2),\n",
    "            [[0, 19], 5, 18]\n",
    "        )\n",
    "\n",
    "\n",
    "res = unittest.main(argv=[''], verbosity=3, exit=False)\n",
    "assert len(res.result.failures) == 0"
   ],
   "metadata": {
    "collapsed": false
   }
  },
  {
   "cell_type": "markdown",
   "source": [
    "Let's now read in the FASTA file with the human Alu sequences"
   ],
   "metadata": {
    "collapsed": false
   }
  },
  {
   "cell_type": "code",
   "execution_count": 28,
   "outputs": [],
   "source": [
    "with Path(\"week2hw/chr1.GRCh38.excerpt.fasta\").open(mode=\"r\") as fh:\n",
    "    alu_sequences: SeqIO.SeqRecord = list(SeqIO.parse(fh, \"fasta\"))[0]"
   ],
   "metadata": {
    "collapsed": false
   }
  },
  {
   "cell_type": "markdown",
   "source": [
    "# Quiz"
   ],
   "metadata": {
    "collapsed": false
   }
  },
  {
   "cell_type": "markdown",
   "source": [
    "## Q1\n",
    "How many alignments does the naive exact matching algorithm try when matching the string\n",
    "`GGCGCGGTGGCTCACGCCTGTAATCCCAGCACTTTGGGAGGCCGAGG`\n",
    "(derived from human Alu sequences) to the excerpt of human chromosome 1?  (Don't consider reverse complements.)\n"
   ],
   "metadata": {
    "collapsed": false
   }
  },
  {
   "cell_type": "markdown",
   "source": [
    "First verify that the sequence loaded into memory is from humans (Homo sapiens) and is chromosome 1"
   ],
   "metadata": {
    "collapsed": false
   }
  },
  {
   "cell_type": "code",
   "execution_count": 33,
   "outputs": [
    {
     "name": "stdout",
     "output_type": "stream",
     "text": [
      "ID: CM000663.2_excerpt\n",
      "Name: CM000663.2_excerpt\n",
      "Description: CM000663.2_excerpt EXCERPT FROM CM000663.2 Homo sapiens chromosome 1, GRCh38 reference primary assembly\n",
      "Number of features: 0\n",
      "Seq('TTGAATGCTGAAATCAGCAGGTAATATATGATAATAGAGAAAGCTATCCCGAAG...AGG')\n"
     ]
    }
   ],
   "source": [
    "print(str(alu_sequences))"
   ],
   "metadata": {
    "collapsed": false
   }
  },
  {
   "cell_type": "markdown",
   "source": [
    "Now run the query"
   ],
   "metadata": {
    "collapsed": false
   }
  },
  {
   "cell_type": "code",
   "execution_count": 34,
   "outputs": [
    {
     "name": "stdout",
     "output_type": "stream",
     "text": [
      "Number of alignments: 799954\n"
     ]
    }
   ],
   "source": [
    "p_1 = \"GGCGCGGTGGCTCACGCCTGTAATCCCAGCACTTTGGGAGGCCGAGG\"\n",
    "_, align_1, _ = naive(p_1, str(alu_sequences.seq), full=True)\n",
    "print(f\"Number of alignments: {align_1}\")"
   ],
   "metadata": {
    "collapsed": false
   }
  },
  {
   "cell_type": "markdown",
   "source": [
    "## Q2:\n",
    "How many character comparisons does the naive exact matching algorithm try when matching the string\n",
    "`GGCGCGGTGGCTCACGCCTGTAATCCCAGCACTTTGGGAGGCCGAGG`\n",
    "(derived from human Alu sequences) to the excerpt of human chromosome 1?  (Don't consider reverse complements.)"
   ],
   "metadata": {
    "collapsed": false
   }
  },
  {
   "cell_type": "code",
   "execution_count": 35,
   "outputs": [
    {
     "name": "stdout",
     "output_type": "stream",
     "text": [
      "Number of comparisons: 984143\n"
     ]
    }
   ],
   "source": [
    "p_2 = \"GGCGCGGTGGCTCACGCCTGTAATCCCAGCACTTTGGGAGGCCGAGG\"\n",
    "_, _, comp_2 = naive(p_2, str(alu_sequences.seq), full=True)\n",
    "print(f\"Number of comparisons: {comp_2}\")"
   ],
   "metadata": {
    "collapsed": false
   }
  },
  {
   "cell_type": "markdown",
   "source": [
    "## Q3:\n",
    "How many alignments does Boyer-Moore try when matching the string\n",
    "`GGCGCGGTGGCTCACGCCTGTAATCCCAGCACTTTGGGAGGCCGAGG`\n",
    "(derived from human Alu sequences) to the excerpt of human chromosome 1?  (Don't consider reverse complements.)"
   ],
   "metadata": {
    "collapsed": false
   }
  },
  {
   "cell_type": "code",
   "execution_count": 37,
   "outputs": [
    {
     "name": "stdout",
     "output_type": "stream",
     "text": [
      "Number of alignments: 127974\n"
     ]
    }
   ],
   "source": [
    "p_3 = \"GGCGCGGTGGCTCACGCCTGTAATCCCAGCACTTTGGGAGGCCGAGG\"\n",
    "bm_indexer_3 = BoyerMoore(p_3)\n",
    "_, align_3, _ = boyer_moore(p_3, bm_indexer_3, str(alu_sequences.seq), full=True)\n",
    "print(f\"Number of alignments: {align_3}\")"
   ],
   "metadata": {
    "collapsed": false
   }
  },
  {
   "cell_type": "code",
   "execution_count": null,
   "outputs": [],
   "source": [],
   "metadata": {
    "collapsed": false
   }
  }
 ],
 "metadata": {
  "kernelspec": {
   "display_name": "Python 3",
   "language": "python",
   "name": "python3"
  },
  "language_info": {
   "codemirror_mode": {
    "name": "ipython",
    "version": 2
   },
   "file_extension": ".py",
   "mimetype": "text/x-python",
   "name": "python",
   "nbconvert_exporter": "python",
   "pygments_lexer": "ipython2",
   "version": "2.7.6"
  }
 },
 "nbformat": 4,
 "nbformat_minor": 0
}
