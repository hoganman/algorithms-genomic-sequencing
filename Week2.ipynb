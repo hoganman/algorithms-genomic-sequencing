{
 "cells": [
  {
   "cell_type": "markdown",
   "source": [
    "# Week 2\n",
    "\n",
    "This notebook examines preprocessing of a text _T_ for matching against pattern _P_\n",
    "\n",
    "What is not examined in this notebook is the Boyer-Moore algorithm, which is explored as stand-alone, buildable executables from C and C++. It is neat to see that Boyer-Moore is built into C++17 by default and the C implementation is not too hard either."
   ],
   "metadata": {
    "collapsed": false
   }
  },
  {
   "cell_type": "code",
   "execution_count": 12,
   "outputs": [],
   "source": [
    "%matplotlib inline"
   ],
   "metadata": {
    "collapsed": false
   }
  },
  {
   "cell_type": "code",
   "execution_count": 220,
   "outputs": [],
   "source": [
    "import bisect\n",
    "from pathlib import Path\n",
    "from collections import Counter\n",
    "import unittest\n",
    "\n",
    "from Bio import SeqIO\n",
    "import matplotlib.pyplot as plt\n",
    "import numpy as np\n",
    "from scipy.optimize import curve_fit"
   ],
   "metadata": {
    "collapsed": false
   }
  },
  {
   "cell_type": "markdown",
   "source": [
    "# K-mers using Sorted Container"
   ],
   "metadata": {
    "collapsed": false
   }
  },
  {
   "cell_type": "code",
   "execution_count": 200,
   "outputs": [],
   "source": [
    "class IndexKmer:\n",
    "    \"\"\"Preprocess text for comparison using an ordered list indexer\"\"\"\n",
    "\n",
    "    def __init__(self, text: str, size: int) -> None:\n",
    "        \"\"\"Initialize the k-mer indexer\n",
    "\n",
    "        Parameters\n",
    "        ----------\n",
    "        text : str\n",
    "            Text to run queries against\n",
    "        size : int\n",
    "            Length of the k-mer to index\n",
    "        \"\"\"\n",
    "        self.size = size\n",
    "        self.text = text\n",
    "        self.indices: list[tuple[str, int]] = []\n",
    "        for index in range(len(text) - size + 1):\n",
    "            self.indices.append(\n",
    "                (text[index: index + size], index)\n",
    "            )\n",
    "        self.indices.sort()\n",
    "\n",
    "    def query(self, pat: str) -> list[int]:\n",
    "        \"\"\"Run a query of the given pattern\n",
    "\n",
    "        Parameters\n",
    "        ----------\n",
    "        pat : str\n",
    "            Pattern\n",
    "\n",
    "        Returns\n",
    "        -------\n",
    "        list[int]\n",
    "            All starting offsets for the pattern\n",
    "        \"\"\"\n",
    "        all_hits = self._query_all(pat)\n",
    "        offsets: list[int] = []\n",
    "        # Run verification\n",
    "        for hit in all_hits:\n",
    "            if pat[self.size:] == self.text[hit + self.size: hit + len(pat)]:\n",
    "                offsets.append(hit)\n",
    "        return offsets\n",
    "\n",
    "    def _query_all(self, pat: str) -> list[int]:\n",
    "        \"\"\"Run a query of the given pattern WITHOUT verification\n",
    "\n",
    "        Parameters\n",
    "        ----------\n",
    "        pat : str\n",
    "            Pattern\n",
    "        Returns\n",
    "        -------\n",
    "        list[int]\n",
    "            All starting offsets for the pattern\n",
    "        \"\"\"\n",
    "        kmer = pat[:self.size]\n",
    "        # -1 always returns the first occurrence of pat_kmer\n",
    "        index = bisect.bisect_left(self.indices, (kmer, -1))\n",
    "        hits: list[int] = []\n",
    "        while index < len(self.indices):\n",
    "            if kmer != self.indices[index][0]:\n",
    "                break\n",
    "            hits.append(self.indices[index][1])\n",
    "            index += 1\n",
    "        return hits\n"
   ],
   "metadata": {
    "collapsed": false
   }
  },
  {
   "cell_type": "markdown",
   "source": [
    "Run a unit test"
   ],
   "metadata": {
    "collapsed": false
   }
  },
  {
   "cell_type": "code",
   "execution_count": 221,
   "outputs": [
    {
     "name": "stderr",
     "output_type": "stream",
     "text": [
      "test_all_hits (__main__.IndexKmerUnitTest) ... ok\n",
      "\n",
      "----------------------------------------------------------------------\n",
      "Ran 1 test in 0.005s\n",
      "\n",
      "OK\n"
     ]
    }
   ],
   "source": [
    "class IndexKmerUnitTest(unittest.TestCase):\n",
    "\n",
    "    def test_all_hits(self):\n",
    "        text_indexed = IndexKmer(\"AAAGGGCCCGGGTTT\", 2)\n",
    "        self.assertListEqual(text_indexed.query(\"GGG\"), [3, 9])\n",
    "\n",
    "\n",
    "res = unittest.main(argv=[''], verbosity=3, exit=False)\n",
    "assert len(res.result.failures) == 0"
   ],
   "metadata": {
    "collapsed": false
   }
  },
  {
   "cell_type": "markdown",
   "source": [
    "Let's examine the properties of a k-mer against an available genome."
   ],
   "metadata": {
    "collapsed": false
   }
  },
  {
   "cell_type": "code",
   "execution_count": 9,
   "outputs": [],
   "source": [
    "with Path(\"week1hw/lambda_virus.fa\").open(mode=\"r\") as fh:\n",
    "    lambda_genome = list(SeqIO.parse(fh, \"fasta\"))[0]"
   ],
   "metadata": {
    "collapsed": false
   }
  },
  {
   "cell_type": "code",
   "execution_count": 192,
   "outputs": [],
   "source": [
    "lambda_indexer = IndexKmer(str(lambda_genome.seq), 6)"
   ],
   "metadata": {
    "collapsed": false
   }
  },
  {
   "cell_type": "code",
   "execution_count": 217,
   "outputs": [
    {
     "data": {
      "text/plain": "<Figure size 640x480 with 1 Axes>",
      "image/png": "[encoded data removed]"
     },
     "metadata": {},
     "output_type": "display_data"
    }
   ],
   "source": [
    "# First count the k-mers\n",
    "kmer_counter = Counter(\n",
    "    kmer_index[0]\n",
    "    for kmer_index in lambda_indexer.indices\n",
    ")\n",
    "\n",
    "fig_kmer_counter, ax_kmer_counter = plt.subplots()\n",
    "ax_kmer_counter: plt.Axes\n",
    "ax_kmer_counter.hist(\n",
    "    list(kmer_counter.values()),\n",
    "    bins=np.arange(1, 51, 1)\n",
    ")\n",
    "ax_kmer_counter.set_xlabel(f\"{lambda_indexer.size}-mer frequency\")\n",
    "ax_kmer_counter.set_ylabel(\"Counts\")\n",
    "ax_kmer_counter.grid(True)\n",
    "plt.show(fig_kmer_counter)"
   ],
   "metadata": {
    "collapsed": false
   }
  },
  {
   "cell_type": "markdown",
   "source": [
    "This is an interesting shape. Can we characterize the shape? After some trail-and-error, I believe the frequency of k-mers follows a Cauchy distribution with a Gaussian"
   ],
   "metadata": {
    "collapsed": false
   }
  },
  {
   "cell_type": "code",
   "execution_count": 213,
   "outputs": [],
   "source": [
    "def fit_fcn(x: np.ndarray, *args):\n",
    "    \"\"\"A Cauchy distribution with a Gaussian\"\"\"\n",
    "    amp, loc, scale = args\n",
    "    return amp * scale**2 / ((np.power(x - loc, 2)) + scale**2) * np.exp(-np.power(x - loc, 2) / (2 * scale**2))"
   ],
   "metadata": {
    "collapsed": false
   }
  },
  {
   "cell_type": "code",
   "execution_count": 214,
   "outputs": [
    {
     "data": {
      "text/plain": "(array([247.016234  ,   9.2952436 ,  11.16814453]),\n array([[ 2.21962745e+01,  1.00991638e-01, -9.63731122e-01],\n        [ 1.00991638e-01,  2.98218997e-02, -1.76441134e-02],\n        [-9.63731122e-01, -1.76441134e-02,  1.07020613e-01]]))"
     },
     "execution_count": 214,
     "metadata": {},
     "output_type": "execute_result"
    }
   ],
   "source": [
    "kmer_counter2 = Counter(kmer_counter.values())\n",
    "\n",
    "xdata = np.array(list(kmer_counter2.keys()))\n",
    "ydata = np.array(list(kmer_counter2.values()))\n",
    "kmer_fit = curve_fit(\n",
    "    fit_fcn,\n",
    "    xdata,\n",
    "    ydata,\n",
    "    p0=(np.max(ydata), 10.0, 10.0),\n",
    "    bounds=[\n",
    "        (0.5 * np.max(ydata), -50., 1.),\n",
    "        (2.0 * np.max(ydata), 50., 1000)\n",
    "    ],\n",
    ")\n",
    "\n",
    "kmer_fit"
   ],
   "metadata": {
    "collapsed": false
   }
  },
  {
   "cell_type": "code",
   "execution_count": 216,
   "outputs": [
    {
     "data": {
      "text/plain": "<Figure size 640x480 with 1 Axes>",
      "image/png": "[encoded data removed]"
     },
     "metadata": {},
     "output_type": "display_data"
    }
   ],
   "source": [
    "fig_fit_fcn, ax_fit_fcn = plt.subplots()\n",
    "\n",
    "x_linear = np.linspace(\n",
    "    np.min(xdata),\n",
    "    np.max(xdata),\n",
    "    num=100\n",
    ")\n",
    "ax_fit_fcn.plot(\n",
    "    x_linear,\n",
    "    fit_fcn(x_linear, *tuple(kmer_fit[0])),\n",
    ")\n",
    "ax_fit_fcn.scatter(\n",
    "    xdata,\n",
    "    ydata\n",
    ")\n",
    "\n",
    "ax_fit_fcn.set_xlabel(f\"{lambda_indexer.size}-mer frequency\")\n",
    "ax_fit_fcn.set_ylabel(\"Counts\")\n",
    "ax_fit_fcn.grid(True)\n",
    "plt.show(fig_fit_fcn)"
   ],
   "metadata": {
    "collapsed": false
   }
  },
  {
   "cell_type": "code",
   "execution_count": 188,
   "outputs": [],
   "source": [],
   "metadata": {
    "collapsed": false
   }
  }
 ],
 "metadata": {
  "kernelspec": {
   "display_name": "Python 3",
   "language": "python",
   "name": "python3"
  },
  "language_info": {
   "codemirror_mode": {
    "name": "ipython",
    "version": 2
   },
   "file_extension": ".py",
   "mimetype": "text/x-python",
   "name": "python",
   "nbconvert_exporter": "python",
   "pygments_lexer": "ipython2",
   "version": "2.7.6"
  }
 },
 "nbformat": 4,
 "nbformat_minor": 0
}
