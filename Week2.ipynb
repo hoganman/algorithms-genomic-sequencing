{
 "cells": [
  {
   "cell_type": "markdown",
   "source": [
    "# Week 2\n",
    "\n",
    "What is not examined in this notebook is the Boyer-Moore algorithm, which is explored as stand-alone, buildable executables from C and C++. It is neat to see that Boyer-Moore is built into C++17 by default and the C implementation is not too hard either.\n",
    "\n",
    "What will be used in this notebook is an implementation from the instructors of the course. The nice feature of the module is that we can run its unit tests ourselves!"
   ],
   "metadata": {
    "collapsed": false
   }
  },
  {
   "cell_type": "code",
   "execution_count": 73,
   "outputs": [],
   "source": [
    "from src.bm_preproc import BoyerMoore"
   ],
   "metadata": {
    "collapsed": false
   }
  },
  {
   "cell_type": "code",
   "execution_count": null,
   "outputs": [],
   "source": [
    "# This is a part of the assignment. The BoyerMoore object preprocesses the pattern\n",
    "\n",
    "def boyer_moore(\n",
    "    pat : str,\n",
    "    p_bm : BoyerMoore,\n",
    "    tex : str\n",
    "):\n",
    "    \"\"\"Run a pattern search using the Boyer-Moore algorithm\n",
    "\n",
    "    Parameters\n",
    "    ----------\n",
    "    pat : str\n",
    "        Pattern\n",
    "    p_bm : BoyerMoore\n",
    "        Preprocessor for the pattern\n",
    "    tex : str\n",
    "        Text to search\n",
    "\n",
    "    Returns\n",
    "    -------\n",
    "    list[int]\n",
    "        Verified occurrences of the pattern\n",
    "    \"\"\"\n",
    "    index_i = 0\n",
    "    occurrences: list[int] = []\n",
    "    while index_i < len(tex) - len(pat) + 1:\n",
    "        shift = 1\n",
    "        mismatched = False\n",
    "        for index_j in range(len(pat) - 1, -1, -1):\n",
    "            if pat[index_j] != tex[index_i + index_j]:\n",
    "                skip_bc = p_bm.bad_character_rule(index_j, tex[index_i + index_j])\n",
    "                skip_gs = p_bm.good_suffix_rule(index_j)\n",
    "                shift = max(shift, skip_bc, skip_gs)\n",
    "                mismatched = True\n",
    "                break\n",
    "        if not mismatched:\n",
    "            occurrences.append(index_i)\n",
    "            skip_gs = p_bm.match_skip()\n",
    "            shift = max(shift, skip_gs)\n",
    "        index_i += shift\n",
    "    return occurrences"
   ],
   "metadata": {
    "collapsed": false
   }
  },
  {
   "cell_type": "code",
   "execution_count": 81,
   "outputs": [
    {
     "name": "stdout",
     "output_type": "stream",
     "text": [
      "\u001B[1m============================= test session starts ==============================\u001B[0m\r\n",
      "platform darwin -- Python 3.10.8, pytest-7.2.0, pluggy-1.0.0 -- /Users/mhogan/Documents/algorithms-genomic-sequencing/.venv/bin/python\r\n",
      "cachedir: .pytest_cache\r\n",
      "rootdir: /Users/mhogan/Documents/algorithms-genomic-sequencing\r\n",
      "plugins: anyio-3.6.2\r\n",
      "collected 12 items                                                             \u001B[0m\r\n",
      "\r\n",
      "src/bm_preproc.py::TestBoyerMoorePreproc::test_big_l_prime_1 \u001B[32mPASSED\u001B[0m\u001B[32m      [  8%]\u001B[0m\r\n",
      "src/bm_preproc.py::TestBoyerMoorePreproc::test_big_l_prime_2 \u001B[32mPASSED\u001B[0m\u001B[32m      [ 16%]\u001B[0m\r\n",
      "src/bm_preproc.py::TestBoyerMoorePreproc::test_good_suffix_match_mismatch_1 \u001B[32mPASSED\u001B[0m\u001B[32m [ 25%]\u001B[0m\r\n",
      "src/bm_preproc.py::TestBoyerMoorePreproc::test_good_suffix_table_1 \u001B[32mPASSED\u001B[0m\u001B[32m [ 33%]\u001B[0m\r\n",
      "src/bm_preproc.py::TestBoyerMoorePreproc::test_good_suffix_table_2 \u001B[32mPASSED\u001B[0m\u001B[32m [ 41%]\u001B[0m\r\n",
      "src/bm_preproc.py::TestBoyerMoorePreproc::test_n_1 \u001B[32mPASSED\u001B[0m\u001B[32m                [ 50%]\u001B[0m\r\n",
      "src/bm_preproc.py::TestBoyerMoorePreproc::test_n_2 \u001B[32mPASSED\u001B[0m\u001B[32m                [ 58%]\u001B[0m\r\n",
      "src/bm_preproc.py::TestBoyerMoorePreproc::test_n_3 \u001B[32mPASSED\u001B[0m\u001B[32m                [ 66%]\u001B[0m\r\n",
      "src/bm_preproc.py::TestBoyerMoorePreproc::test_small_l_prime_1 \u001B[32mPASSED\u001B[0m\u001B[32m    [ 75%]\u001B[0m\r\n",
      "src/bm_preproc.py::TestBoyerMoorePreproc::test_z_1 \u001B[32mPASSED\u001B[0m\u001B[32m                [ 83%]\u001B[0m\r\n",
      "src/bm_preproc.py::TestBoyerMoorePreproc::test_z_2 \u001B[32mPASSED\u001B[0m\u001B[32m                [ 91%]\u001B[0m\r\n",
      "src/bm_preproc.py::TestBoyerMoorePreproc::test_z_3 \u001B[32mPASSED\u001B[0m\u001B[32m                [100%]\u001B[0m\r\n",
      "\r\n",
      "\u001B[32m============================== \u001B[32m\u001B[1m12 passed\u001B[0m\u001B[32m in 0.11s\u001B[0m\u001B[32m ==============================\u001B[0m\r\n"
     ]
    }
   ],
   "source": [
    "!pytest src/bm_preproc.py::TestBoyerMoorePreproc -v"
   ],
   "metadata": {
    "collapsed": false
   }
  },
  {
   "cell_type": "markdown",
   "source": [
    "Neat! All the unit tests passed meaning we do not have to worry about Python2 or Python3 version differences."
   ],
   "metadata": {
    "collapsed": false
   }
  },
  {
   "cell_type": "code",
   "execution_count": null,
   "outputs": [],
   "source": [],
   "metadata": {
    "collapsed": false
   }
  }
 ],
 "metadata": {
  "kernelspec": {
   "display_name": "Python 3",
   "language": "python",
   "name": "python3"
  },
  "language_info": {
   "codemirror_mode": {
    "name": "ipython",
    "version": 2
   },
   "file_extension": ".py",
   "mimetype": "text/x-python",
   "name": "python",
   "nbconvert_exporter": "python",
   "pygments_lexer": "ipython2",
   "version": "2.7.6"
  }
 },
 "nbformat": 4,
 "nbformat_minor": 0
}
